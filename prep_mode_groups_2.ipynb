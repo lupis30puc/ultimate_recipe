{
  "nbformat": 4,
  "nbformat_minor": 0,
  "metadata": {
    "colab": {
      "name": "prep_mode_groups_2.ipynb",
      "provenance": [],
      "collapsed_sections": [],
      "include_colab_link": true
    },
    "kernelspec": {
      "name": "python3",
      "display_name": "Python 3"
    }
  },
  "cells": [
    {
      "cell_type": "markdown",
      "metadata": {
        "id": "view-in-github",
        "colab_type": "text"
      },
      "source": [
        "<a href=\"https://colab.research.google.com/github/lupis30puc/ultimate_recipe/blob/master/prep_mode_groups_2.ipynb\" target=\"_parent\"><img src=\"https://colab.research.google.com/assets/colab-badge.svg\" alt=\"Open In Colab\"/></a>"
      ]
    },
    {
      "cell_type": "code",
      "metadata": {
        "id": "JVQ5hc9deLuw"
      },
      "source": [
        "import json #for loading\n",
        "import pandas as pd\n",
        "import re #for preprocessing\n",
        "from gensim.parsing.preprocessing import strip_tags, strip_numeric, strip_punctuation, strip_multiple_whitespaces, strip_short\n",
        "import nltk\n",
        "from nltk.corpus import stopwords\n",
        "import en_core_web_sm\n",
        "import pickle\n",
        "from google.colab import files\n",
        "import pickle\n",
        "import spacy \n",
        "from spacy.attrs import ORTH\n",
        "from collections import Counter\n",
        "#import textacy\n",
        "import numpy as np \n",
        "import csv"
      ],
      "execution_count": null,
      "outputs": []
    },
    {
      "cell_type": "markdown",
      "metadata": {
        "id": "_lhXOBI8VfgM"
      },
      "source": [
        "## Loading raw sentences, tokenizer and making the extract:"
      ]
    },
    {
      "cell_type": "code",
      "metadata": {
        "id": "sjC1snCwds8H",
        "colab": {
          "base_uri": "https://localhost:8080/",
          "height": 122
        },
        "outputId": "5891e28b-c210-4a66-ddee-51b00fe994fb"
      },
      "source": [
        "from google.colab import drive\n",
        "drive.mount('/content/drive')"
      ],
      "execution_count": null,
      "outputs": [
        {
          "output_type": "stream",
          "text": [
            "Go to this URL in a browser: https://accounts.google.com/o/oauth2/auth?client_id=947318989803-6bn6qk8qdgf4n4g3pfee6491hc0brc4i.apps.googleusercontent.com&redirect_uri=urn%3aietf%3awg%3aoauth%3a2.0%3aoob&response_type=code&scope=email%20https%3a%2f%2fwww.googleapis.com%2fauth%2fdocs.test%20https%3a%2f%2fwww.googleapis.com%2fauth%2fdrive%20https%3a%2f%2fwww.googleapis.com%2fauth%2fdrive.photos.readonly%20https%3a%2f%2fwww.googleapis.com%2fauth%2fpeopleapi.readonly\n",
            "\n",
            "Enter your authorization code:\n",
            "··········\n",
            "Mounted at /content/drive\n"
          ],
          "name": "stdout"
        }
      ]
    },
    {
      "cell_type": "code",
      "metadata": {
        "id": "95z33d_RorO0"
      },
      "source": [
        "raw_sentences = pickle.load(open(\"/content/drive/My Drive/BPIL_Ultimate Recipe Generator/Colab Notebooks/Pickle files/raw_sentences.pkl\", \"rb\"))\n",
        "#raw_sentences = pickle.load(open(\"raw_sentences.pkl\", \"rb\"))"
      ],
      "execution_count": null,
      "outputs": []
    },
    {
      "cell_type": "code",
      "metadata": {
        "id": "eKx9LW10q4ts",
        "colab": {
          "base_uri": "https://localhost:8080/",
          "height": 35
        },
        "outputId": "ed4d6131-c213-4665-9a52-4094478d79e0"
      },
      "source": [
        "raw_sentences[0]"
      ],
      "execution_count": null,
      "outputs": [
        {
          "output_type": "execute_result",
          "data": {
            "application/vnd.google.colaboratory.intrinsic": {
              "type": "string"
            },
            "text/plain": [
              "'Place the chicken, butter, soup, and onion in a slow cooker, and fill with enough water to cover'"
            ]
          },
          "metadata": {
            "tags": []
          },
          "execution_count": 4
        }
      ]
    },
    {
      "cell_type": "code",
      "metadata": {
        "id": "UZHtXx7dX1D4"
      },
      "source": [
        "# Load English tokenizer, tagger,  \n",
        "# parser, NER and word vectors \n",
        "nlp = spacy.load(\"en_core_web_sm\")"
      ],
      "execution_count": null,
      "outputs": []
    },
    {
      "cell_type": "code",
      "metadata": {
        "id": "uhE-VZOlbHva",
        "colab": {
          "base_uri": "https://localhost:8080/",
          "height": 34
        },
        "outputId": "1042c396-c406-43f8-9d01-8dda7c1cab06"
      },
      "source": [
        "print(len(raw_sentences))"
      ],
      "execution_count": null,
      "outputs": [
        {
          "output_type": "stream",
          "text": [
            "341454\n"
          ],
          "name": "stdout"
        }
      ]
    },
    {
      "cell_type": "code",
      "metadata": {
        "id": "I4bOOeOEbKfB",
        "colab": {
          "base_uri": "https://localhost:8080/",
          "height": 34
        },
        "outputId": "ff55a8e3-cce7-406a-fbf2-87cfb1902d62"
      },
      "source": [
        "# Selecting and saving only 1000 sentences\n",
        "extract = raw_sentences[:1000]\n",
        "print(extract[0])"
      ],
      "execution_count": null,
      "outputs": [
        {
          "output_type": "stream",
          "text": [
            "Place the chicken, butter, soup, and onion in a slow cooker, and fill with enough water to cover\n"
          ],
          "name": "stdout"
        }
      ]
    },
    {
      "cell_type": "markdown",
      "metadata": {
        "id": "bh_3hP_gcNNr"
      },
      "source": [
        "# Using latest ingredients list from ingredients team"
      ]
    },
    {
      "cell_type": "code",
      "metadata": {
        "id": "eWnARNJwcnZJ",
        "colab": {
          "base_uri": "https://localhost:8080/",
          "height": 119
        },
        "outputId": "cfb453f6-755a-4ca3-e1d2-d45dc27a108e"
      },
      "source": [
        "# Load the ingredients list\n",
        "#ingredients_df = pd.read_csv('/content/drive/My Drive/BPIL_Ultimate Recipe Generator/Datasets/ingredient_lemma.csv', index_col=0)\n",
        "ingredients = pickle.load(open(\"/content/drive/My Drive/BPIL_Ultimate Recipe Generator/Colab Notebooks/Pickle files/unique_ingredients.p\", \"rb\"))\n",
        "ingredients.head()"
      ],
      "execution_count": null,
      "outputs": [
        {
          "output_type": "execute_result",
          "data": {
            "text/plain": [
              "21      salt\n",
              "20    pepper\n",
              "23     sugar\n",
              "31     white\n",
              "5      onion\n",
              "Name: Tokens, dtype: object"
            ]
          },
          "metadata": {
            "tags": []
          },
          "execution_count": 8
        }
      ]
    },
    {
      "cell_type": "code",
      "metadata": {
        "id": "Jo-jO37afZs2",
        "colab": {
          "base_uri": "https://localhost:8080/",
          "height": 35
        },
        "outputId": "37378997-6183-4f83-e8fd-694212d6a8cd"
      },
      "source": [
        "#type(ingredients)"
      ],
      "execution_count": null,
      "outputs": [
        {
          "output_type": "execute_result",
          "data": {
            "text/plain": [
              "pandas.core.series.Series"
            ]
          },
          "metadata": {
            "tags": []
          },
          "execution_count": 9
        }
      ]
    },
    {
      "cell_type": "code",
      "metadata": {
        "id": "uW_s3fQvmQy7",
        "colab": {
          "base_uri": "https://localhost:8080/",
          "height": 204
        },
        "outputId": "35dd2da8-29e7-44f8-8425-ddf756cb4403"
      },
      "source": [
        "ingredients_df = pd.DataFrame({'ingredient': ingredients})\n",
        "ingredients_df.head()"
      ],
      "execution_count": null,
      "outputs": [
        {
          "output_type": "execute_result",
          "data": {
            "text/html": [
              "<div>\n",
              "<style scoped>\n",
              "    .dataframe tbody tr th:only-of-type {\n",
              "        vertical-align: middle;\n",
              "    }\n",
              "\n",
              "    .dataframe tbody tr th {\n",
              "        vertical-align: top;\n",
              "    }\n",
              "\n",
              "    .dataframe thead th {\n",
              "        text-align: right;\n",
              "    }\n",
              "</style>\n",
              "<table border=\"1\" class=\"dataframe\">\n",
              "  <thead>\n",
              "    <tr style=\"text-align: right;\">\n",
              "      <th></th>\n",
              "      <th>ingredient</th>\n",
              "    </tr>\n",
              "  </thead>\n",
              "  <tbody>\n",
              "    <tr>\n",
              "      <th>21</th>\n",
              "      <td>salt</td>\n",
              "    </tr>\n",
              "    <tr>\n",
              "      <th>20</th>\n",
              "      <td>pepper</td>\n",
              "    </tr>\n",
              "    <tr>\n",
              "      <th>23</th>\n",
              "      <td>sugar</td>\n",
              "    </tr>\n",
              "    <tr>\n",
              "      <th>31</th>\n",
              "      <td>white</td>\n",
              "    </tr>\n",
              "    <tr>\n",
              "      <th>5</th>\n",
              "      <td>onion</td>\n",
              "    </tr>\n",
              "  </tbody>\n",
              "</table>\n",
              "</div>"
            ],
            "text/plain": [
              "   ingredient\n",
              "21       salt\n",
              "20     pepper\n",
              "23      sugar\n",
              "31      white\n",
              "5       onion"
            ]
          },
          "metadata": {
            "tags": []
          },
          "execution_count": 9
        }
      ]
    },
    {
      "cell_type": "code",
      "metadata": {
        "id": "uvs29s19cnZq",
        "colab": {
          "base_uri": "https://localhost:8080/",
          "height": 34
        },
        "outputId": "fcbb84da-7d64-4481-84f7-2bdcaa036602"
      },
      "source": [
        "# Making a list with the ingredients\n",
        "ingredients = list(ingredients_df.ingredient)\n",
        "len(ingredients)"
      ],
      "execution_count": null,
      "outputs": [
        {
          "output_type": "execute_result",
          "data": {
            "text/plain": [
              "934"
            ]
          },
          "metadata": {
            "tags": []
          },
          "execution_count": 10
        }
      ]
    },
    {
      "cell_type": "code",
      "metadata": {
        "id": "_mnDpw60cnZ0",
        "colab": {
          "base_uri": "https://localhost:8080/",
          "height": 35
        },
        "outputId": "4c3b971c-4606-43d4-b6bc-11a2bcd7e4e3"
      },
      "source": [
        "# Making a reduced list of less ingredients\n",
        "ingre_red = ingredients[:]\n",
        "ingre_red[0]"
      ],
      "execution_count": null,
      "outputs": [
        {
          "output_type": "execute_result",
          "data": {
            "application/vnd.google.colaboratory.intrinsic": {
              "type": "string"
            },
            "text/plain": [
              "'salt'"
            ]
          },
          "metadata": {
            "tags": []
          },
          "execution_count": 11
        }
      ]
    },
    {
      "cell_type": "code",
      "metadata": {
        "id": "TKkOLV7_dL5C",
        "colab": {
          "base_uri": "https://localhost:8080/",
          "height": 253
        },
        "outputId": "fc4a326f-5184-4319-90ce-3fc66ee1e41b"
      },
      "source": [
        "# Creating a DataFrame with the reduced ingredients list\n",
        "ingre_df = pd.DataFrame(index=ingre_red)\n",
        "# Just so there is enough space for the word we add 10000 columns to the DF\n",
        "for n in range(10000):\n",
        "  ingre_df[n] = ''\n",
        "\n",
        "ingre_df = ingre_df.transpose()\n",
        "ingre_df.head()"
      ],
      "execution_count": null,
      "outputs": [
        {
          "output_type": "execute_result",
          "data": {
            "text/html": [
              "<div>\n",
              "<style scoped>\n",
              "    .dataframe tbody tr th:only-of-type {\n",
              "        vertical-align: middle;\n",
              "    }\n",
              "\n",
              "    .dataframe tbody tr th {\n",
              "        vertical-align: top;\n",
              "    }\n",
              "\n",
              "    .dataframe thead th {\n",
              "        text-align: right;\n",
              "    }\n",
              "</style>\n",
              "<table border=\"1\" class=\"dataframe\">\n",
              "  <thead>\n",
              "    <tr style=\"text-align: right;\">\n",
              "      <th></th>\n",
              "      <th>salt</th>\n",
              "      <th>pepper</th>\n",
              "      <th>sugar</th>\n",
              "      <th>white</th>\n",
              "      <th>onion</th>\n",
              "      <th>oil</th>\n",
              "      <th>butter</th>\n",
              "      <th>garlic</th>\n",
              "      <th>flour</th>\n",
              "      <th>egg</th>\n",
              "      <th>cheese</th>\n",
              "      <th>slice</th>\n",
              "      <th>water</th>\n",
              "      <th>milk</th>\n",
              "      <th>olive</th>\n",
              "      <th>vanilla</th>\n",
              "      <th>mince</th>\n",
              "      <th>chicken</th>\n",
              "      <th>green</th>\n",
              "      <th>peel</th>\n",
              "      <th>brown</th>\n",
              "      <th>lemon</th>\n",
              "      <th>tomato</th>\n",
              "      <th>drain</th>\n",
              "      <th>cinnamon</th>\n",
              "      <th>vinegar</th>\n",
              "      <th>soda</th>\n",
              "      <th>beef</th>\n",
              "      <th>bell</th>\n",
              "      <th>potato</th>\n",
              "      <th>advertisement</th>\n",
              "      <th>bread</th>\n",
              "      <th>crush</th>\n",
              "      <th>chocolate</th>\n",
              "      <th>cook</th>\n",
              "      <th>broth</th>\n",
              "      <th>parsley</th>\n",
              "      <th>divide</th>\n",
              "      <th>cheddar</th>\n",
              "      <th>celery</th>\n",
              "      <th>...</th>\n",
              "      <th>rind</th>\n",
              "      <th>idahoan</th>\n",
              "      <th>spiral</th>\n",
              "      <th>plantain</th>\n",
              "      <th>choice</th>\n",
              "      <th>pouch</th>\n",
              "      <th>duncan</th>\n",
              "      <th>tot</th>\n",
              "      <th>dole</th>\n",
              "      <th>citrus</th>\n",
              "      <th>cornflakes</th>\n",
              "      <th>membrane</th>\n",
              "      <th>thread</th>\n",
              "      <th>hines</th>\n",
              "      <th>factory</th>\n",
              "      <th>mangos</th>\n",
              "      <th>crisps</th>\n",
              "      <th>fontina</th>\n",
              "      <th>granola</th>\n",
              "      <th>heinz</th>\n",
              "      <th>skirt</th>\n",
              "      <th>ritz</th>\n",
              "      <th>mexico</th>\n",
              "      <th>chex</th>\n",
              "      <th>hazelnuts</th>\n",
              "      <th>kitchen</th>\n",
              "      <th>grit</th>\n",
              "      <th>seaweed</th>\n",
              "      <th>segments</th>\n",
              "      <th>burgundy</th>\n",
              "      <th>shank</th>\n",
              "      <th>anaheim</th>\n",
              "      <th>zesty</th>\n",
              "      <th>vermicelli</th>\n",
              "      <th>mixture</th>\n",
              "      <th>nestle</th>\n",
              "      <th>shuck</th>\n",
              "      <th>rack</th>\n",
              "      <th>pecorino</th>\n",
              "      <th>buckwheat</th>\n",
              "    </tr>\n",
              "  </thead>\n",
              "  <tbody>\n",
              "    <tr>\n",
              "      <th>0</th>\n",
              "      <td></td>\n",
              "      <td></td>\n",
              "      <td></td>\n",
              "      <td></td>\n",
              "      <td></td>\n",
              "      <td></td>\n",
              "      <td></td>\n",
              "      <td></td>\n",
              "      <td></td>\n",
              "      <td></td>\n",
              "      <td></td>\n",
              "      <td></td>\n",
              "      <td></td>\n",
              "      <td></td>\n",
              "      <td></td>\n",
              "      <td></td>\n",
              "      <td></td>\n",
              "      <td></td>\n",
              "      <td></td>\n",
              "      <td></td>\n",
              "      <td></td>\n",
              "      <td></td>\n",
              "      <td></td>\n",
              "      <td></td>\n",
              "      <td></td>\n",
              "      <td></td>\n",
              "      <td></td>\n",
              "      <td></td>\n",
              "      <td></td>\n",
              "      <td></td>\n",
              "      <td></td>\n",
              "      <td></td>\n",
              "      <td></td>\n",
              "      <td></td>\n",
              "      <td></td>\n",
              "      <td></td>\n",
              "      <td></td>\n",
              "      <td></td>\n",
              "      <td></td>\n",
              "      <td></td>\n",
              "      <td>...</td>\n",
              "      <td></td>\n",
              "      <td></td>\n",
              "      <td></td>\n",
              "      <td></td>\n",
              "      <td></td>\n",
              "      <td></td>\n",
              "      <td></td>\n",
              "      <td></td>\n",
              "      <td></td>\n",
              "      <td></td>\n",
              "      <td></td>\n",
              "      <td></td>\n",
              "      <td></td>\n",
              "      <td></td>\n",
              "      <td></td>\n",
              "      <td></td>\n",
              "      <td></td>\n",
              "      <td></td>\n",
              "      <td></td>\n",
              "      <td></td>\n",
              "      <td></td>\n",
              "      <td></td>\n",
              "      <td></td>\n",
              "      <td></td>\n",
              "      <td></td>\n",
              "      <td></td>\n",
              "      <td></td>\n",
              "      <td></td>\n",
              "      <td></td>\n",
              "      <td></td>\n",
              "      <td></td>\n",
              "      <td></td>\n",
              "      <td></td>\n",
              "      <td></td>\n",
              "      <td></td>\n",
              "      <td></td>\n",
              "      <td></td>\n",
              "      <td></td>\n",
              "      <td></td>\n",
              "      <td></td>\n",
              "    </tr>\n",
              "    <tr>\n",
              "      <th>1</th>\n",
              "      <td></td>\n",
              "      <td></td>\n",
              "      <td></td>\n",
              "      <td></td>\n",
              "      <td></td>\n",
              "      <td></td>\n",
              "      <td></td>\n",
              "      <td></td>\n",
              "      <td></td>\n",
              "      <td></td>\n",
              "      <td></td>\n",
              "      <td></td>\n",
              "      <td></td>\n",
              "      <td></td>\n",
              "      <td></td>\n",
              "      <td></td>\n",
              "      <td></td>\n",
              "      <td></td>\n",
              "      <td></td>\n",
              "      <td></td>\n",
              "      <td></td>\n",
              "      <td></td>\n",
              "      <td></td>\n",
              "      <td></td>\n",
              "      <td></td>\n",
              "      <td></td>\n",
              "      <td></td>\n",
              "      <td></td>\n",
              "      <td></td>\n",
              "      <td></td>\n",
              "      <td></td>\n",
              "      <td></td>\n",
              "      <td></td>\n",
              "      <td></td>\n",
              "      <td></td>\n",
              "      <td></td>\n",
              "      <td></td>\n",
              "      <td></td>\n",
              "      <td></td>\n",
              "      <td></td>\n",
              "      <td>...</td>\n",
              "      <td></td>\n",
              "      <td></td>\n",
              "      <td></td>\n",
              "      <td></td>\n",
              "      <td></td>\n",
              "      <td></td>\n",
              "      <td></td>\n",
              "      <td></td>\n",
              "      <td></td>\n",
              "      <td></td>\n",
              "      <td></td>\n",
              "      <td></td>\n",
              "      <td></td>\n",
              "      <td></td>\n",
              "      <td></td>\n",
              "      <td></td>\n",
              "      <td></td>\n",
              "      <td></td>\n",
              "      <td></td>\n",
              "      <td></td>\n",
              "      <td></td>\n",
              "      <td></td>\n",
              "      <td></td>\n",
              "      <td></td>\n",
              "      <td></td>\n",
              "      <td></td>\n",
              "      <td></td>\n",
              "      <td></td>\n",
              "      <td></td>\n",
              "      <td></td>\n",
              "      <td></td>\n",
              "      <td></td>\n",
              "      <td></td>\n",
              "      <td></td>\n",
              "      <td></td>\n",
              "      <td></td>\n",
              "      <td></td>\n",
              "      <td></td>\n",
              "      <td></td>\n",
              "      <td></td>\n",
              "    </tr>\n",
              "    <tr>\n",
              "      <th>2</th>\n",
              "      <td></td>\n",
              "      <td></td>\n",
              "      <td></td>\n",
              "      <td></td>\n",
              "      <td></td>\n",
              "      <td></td>\n",
              "      <td></td>\n",
              "      <td></td>\n",
              "      <td></td>\n",
              "      <td></td>\n",
              "      <td></td>\n",
              "      <td></td>\n",
              "      <td></td>\n",
              "      <td></td>\n",
              "      <td></td>\n",
              "      <td></td>\n",
              "      <td></td>\n",
              "      <td></td>\n",
              "      <td></td>\n",
              "      <td></td>\n",
              "      <td></td>\n",
              "      <td></td>\n",
              "      <td></td>\n",
              "      <td></td>\n",
              "      <td></td>\n",
              "      <td></td>\n",
              "      <td></td>\n",
              "      <td></td>\n",
              "      <td></td>\n",
              "      <td></td>\n",
              "      <td></td>\n",
              "      <td></td>\n",
              "      <td></td>\n",
              "      <td></td>\n",
              "      <td></td>\n",
              "      <td></td>\n",
              "      <td></td>\n",
              "      <td></td>\n",
              "      <td></td>\n",
              "      <td></td>\n",
              "      <td>...</td>\n",
              "      <td></td>\n",
              "      <td></td>\n",
              "      <td></td>\n",
              "      <td></td>\n",
              "      <td></td>\n",
              "      <td></td>\n",
              "      <td></td>\n",
              "      <td></td>\n",
              "      <td></td>\n",
              "      <td></td>\n",
              "      <td></td>\n",
              "      <td></td>\n",
              "      <td></td>\n",
              "      <td></td>\n",
              "      <td></td>\n",
              "      <td></td>\n",
              "      <td></td>\n",
              "      <td></td>\n",
              "      <td></td>\n",
              "      <td></td>\n",
              "      <td></td>\n",
              "      <td></td>\n",
              "      <td></td>\n",
              "      <td></td>\n",
              "      <td></td>\n",
              "      <td></td>\n",
              "      <td></td>\n",
              "      <td></td>\n",
              "      <td></td>\n",
              "      <td></td>\n",
              "      <td></td>\n",
              "      <td></td>\n",
              "      <td></td>\n",
              "      <td></td>\n",
              "      <td></td>\n",
              "      <td></td>\n",
              "      <td></td>\n",
              "      <td></td>\n",
              "      <td></td>\n",
              "      <td></td>\n",
              "    </tr>\n",
              "    <tr>\n",
              "      <th>3</th>\n",
              "      <td></td>\n",
              "      <td></td>\n",
              "      <td></td>\n",
              "      <td></td>\n",
              "      <td></td>\n",
              "      <td></td>\n",
              "      <td></td>\n",
              "      <td></td>\n",
              "      <td></td>\n",
              "      <td></td>\n",
              "      <td></td>\n",
              "      <td></td>\n",
              "      <td></td>\n",
              "      <td></td>\n",
              "      <td></td>\n",
              "      <td></td>\n",
              "      <td></td>\n",
              "      <td></td>\n",
              "      <td></td>\n",
              "      <td></td>\n",
              "      <td></td>\n",
              "      <td></td>\n",
              "      <td></td>\n",
              "      <td></td>\n",
              "      <td></td>\n",
              "      <td></td>\n",
              "      <td></td>\n",
              "      <td></td>\n",
              "      <td></td>\n",
              "      <td></td>\n",
              "      <td></td>\n",
              "      <td></td>\n",
              "      <td></td>\n",
              "      <td></td>\n",
              "      <td></td>\n",
              "      <td></td>\n",
              "      <td></td>\n",
              "      <td></td>\n",
              "      <td></td>\n",
              "      <td></td>\n",
              "      <td>...</td>\n",
              "      <td></td>\n",
              "      <td></td>\n",
              "      <td></td>\n",
              "      <td></td>\n",
              "      <td></td>\n",
              "      <td></td>\n",
              "      <td></td>\n",
              "      <td></td>\n",
              "      <td></td>\n",
              "      <td></td>\n",
              "      <td></td>\n",
              "      <td></td>\n",
              "      <td></td>\n",
              "      <td></td>\n",
              "      <td></td>\n",
              "      <td></td>\n",
              "      <td></td>\n",
              "      <td></td>\n",
              "      <td></td>\n",
              "      <td></td>\n",
              "      <td></td>\n",
              "      <td></td>\n",
              "      <td></td>\n",
              "      <td></td>\n",
              "      <td></td>\n",
              "      <td></td>\n",
              "      <td></td>\n",
              "      <td></td>\n",
              "      <td></td>\n",
              "      <td></td>\n",
              "      <td></td>\n",
              "      <td></td>\n",
              "      <td></td>\n",
              "      <td></td>\n",
              "      <td></td>\n",
              "      <td></td>\n",
              "      <td></td>\n",
              "      <td></td>\n",
              "      <td></td>\n",
              "      <td></td>\n",
              "    </tr>\n",
              "    <tr>\n",
              "      <th>4</th>\n",
              "      <td></td>\n",
              "      <td></td>\n",
              "      <td></td>\n",
              "      <td></td>\n",
              "      <td></td>\n",
              "      <td></td>\n",
              "      <td></td>\n",
              "      <td></td>\n",
              "      <td></td>\n",
              "      <td></td>\n",
              "      <td></td>\n",
              "      <td></td>\n",
              "      <td></td>\n",
              "      <td></td>\n",
              "      <td></td>\n",
              "      <td></td>\n",
              "      <td></td>\n",
              "      <td></td>\n",
              "      <td></td>\n",
              "      <td></td>\n",
              "      <td></td>\n",
              "      <td></td>\n",
              "      <td></td>\n",
              "      <td></td>\n",
              "      <td></td>\n",
              "      <td></td>\n",
              "      <td></td>\n",
              "      <td></td>\n",
              "      <td></td>\n",
              "      <td></td>\n",
              "      <td></td>\n",
              "      <td></td>\n",
              "      <td></td>\n",
              "      <td></td>\n",
              "      <td></td>\n",
              "      <td></td>\n",
              "      <td></td>\n",
              "      <td></td>\n",
              "      <td></td>\n",
              "      <td></td>\n",
              "      <td>...</td>\n",
              "      <td></td>\n",
              "      <td></td>\n",
              "      <td></td>\n",
              "      <td></td>\n",
              "      <td></td>\n",
              "      <td></td>\n",
              "      <td></td>\n",
              "      <td></td>\n",
              "      <td></td>\n",
              "      <td></td>\n",
              "      <td></td>\n",
              "      <td></td>\n",
              "      <td></td>\n",
              "      <td></td>\n",
              "      <td></td>\n",
              "      <td></td>\n",
              "      <td></td>\n",
              "      <td></td>\n",
              "      <td></td>\n",
              "      <td></td>\n",
              "      <td></td>\n",
              "      <td></td>\n",
              "      <td></td>\n",
              "      <td></td>\n",
              "      <td></td>\n",
              "      <td></td>\n",
              "      <td></td>\n",
              "      <td></td>\n",
              "      <td></td>\n",
              "      <td></td>\n",
              "      <td></td>\n",
              "      <td></td>\n",
              "      <td></td>\n",
              "      <td></td>\n",
              "      <td></td>\n",
              "      <td></td>\n",
              "      <td></td>\n",
              "      <td></td>\n",
              "      <td></td>\n",
              "      <td></td>\n",
              "    </tr>\n",
              "  </tbody>\n",
              "</table>\n",
              "<p>5 rows × 934 columns</p>\n",
              "</div>"
            ],
            "text/plain": [
              "  salt pepper sugar white onion  ... nestle shuck rack pecorino buckwheat\n",
              "0                                ...                                     \n",
              "1                                ...                                     \n",
              "2                                ...                                     \n",
              "3                                ...                                     \n",
              "4                                ...                                     \n",
              "\n",
              "[5 rows x 934 columns]"
            ]
          },
          "metadata": {
            "tags": []
          },
          "execution_count": 12
        }
      ]
    },
    {
      "cell_type": "markdown",
      "metadata": {
        "id": "fdsGGc9bdL5c"
      },
      "source": [
        "\n",
        "\n",
        "> Running the code with the extracted sentences (50000) and all 934 ingredients\n",
        "\n"
      ]
    },
    {
      "cell_type": "code",
      "metadata": {
        "id": "Bfg3TmkEc63j",
        "colab": {
          "resources": {
            "http://localhost:8080/nbextensions/google.colab/files.js": {
              "data": "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",
              "ok": true,
              "headers": [
                [
                  "content-type",
                  "application/javascript"
                ]
              ],
              "status": 200,
              "status_text": ""
            }
          },
          "base_uri": "https://localhost:8080/",
          "height": 72
        },
        "outputId": "43318e1d-2236-401a-ea44-7f0fd922c0b7"
      },
      "source": [
        "# Loading the filtered original dataset\n",
        "uploaded=files.upload()"
      ],
      "execution_count": null,
      "outputs": [
        {
          "output_type": "display_data",
          "data": {
            "text/html": [
              "\n",
              "     <input type=\"file\" id=\"files-ecc06a6f-d6bb-47f0-957e-d7fbe6d7c55e\" name=\"files[]\" multiple disabled\n",
              "        style=\"border:none\" />\n",
              "     <output id=\"result-ecc06a6f-d6bb-47f0-957e-d7fbe6d7c55e\">\n",
              "      Upload widget is only available when the cell has been executed in the\n",
              "      current browser session. Please rerun this cell to enable.\n",
              "      </output>\n",
              "      <script src=\"/nbextensions/google.colab/files.js\"></script> "
            ],
            "text/plain": [
              "<IPython.core.display.HTML object>"
            ]
          },
          "metadata": {
            "tags": []
          }
        },
        {
          "output_type": "stream",
          "text": [
            "Saving preparation_actions_phases.csv to preparation_actions_phases.csv\n"
          ],
          "name": "stdout"
        }
      ]
    },
    {
      "cell_type": "code",
      "metadata": {
        "id": "4DXr5_MfdL5g",
        "colab": {
          "base_uri": "https://localhost:8080/",
          "height": 119
        },
        "outputId": "3e55d4e7-1a00-46c7-ee5b-e3ea1dd4819b"
      },
      "source": [
        "# Load preparations modes:\n",
        "#prep_mode = pd.read_csv('/content/drive/My Drive/BPIL_Ultimate Recipe Generator/Datasets/Preparation_actions.csv', index_col=0)\n",
        "prep_mode = pd.read_csv('preparation_actions_phases.csv', delimiter=';')\n",
        "#prep_mode = prep_mode.transpose()\n",
        "print(prep_mode.head())"
      ],
      "execution_count": null,
      "outputs": [
        {
          "output_type": "stream",
          "text": [
            "   phase1   phase2  phase3\n",
            "0  blanch      add    bake\n",
            "1   carve    chill  braise\n",
            "2   blend     coat    boil\n",
            "3    chop  combine    cook\n",
            "4   clean      dip     fry\n"
          ],
          "name": "stdout"
        }
      ]
    },
    {
      "cell_type": "code",
      "metadata": {
        "id": "_i2f05nFdL5m",
        "colab": {
          "base_uri": "https://localhost:8080/",
          "height": 71
        },
        "outputId": "54dec7fb-4d04-4e80-d49f-95a0ee8c3172"
      },
      "source": [
        "def Union(lst1, lst2): \n",
        "    final_list = list(set(lst1) | set(lst2)) \n",
        "    return final_list \n",
        "\n",
        "prep_modes = Union(list(prep_mode.phase1), list(prep_mode.phase2.dropna())) \n",
        "prep_modes_f = Union(prep_modes, list(prep_mode.phase3.dropna()))\n",
        "print(len(prep_modes_f))\n",
        "print(prep_modes_f)"
      ],
      "execution_count": null,
      "outputs": [
        {
          "output_type": "stream",
          "text": [
            "89\n",
            "['blanch', 'saute', 'blend', 'mince', 'wipe', 'clean', 'rinse', 'reduce', 'scale', 'scrub', 'steam', 'add', 'light', 'rub', 'ignite', 'grill', 'crisp', 'refresh', 'spreak', 'splash', 'microwave', 'split', 'pour', 'grease', 'dribble', 'put', 'tenderize', 'whisk', 'carve', 'heat', 'lace', 'dip', 'slit', 'squeeze', 'drain', 'scramble', 'dust', 'top', 'sprinkle', 'roast', 'combine', 'snap', 'weigh', 'cut', 'reheat', 'arrange', 'leave', 'pat', 'stew', 'stir', 'chop', 'chill', 'open', 'cook', 'stir-fry', 'grate', 'boil', 'simmer', 'line', 'ease', 'mix', 'season', 'parboil', 'place', 'warm', 'liquefy', 'slice', 'mash', 'peel', 'slash', 'spray', 'melt', 'dissolve', 'puree', 'soak', 'measure', 'smear', 'fry', 'sift', 'wash', 'bake', 'crush', 'marinate', 'refrigerate', 'salt', 'coat', 'braise', 'preheat', 'knead']\n"
          ],
          "name": "stdout"
        }
      ]
    },
    {
      "cell_type": "code",
      "metadata": {
        "id": "8AdX3i6WdL5q",
        "colab": {
          "base_uri": "https://localhost:8080/",
          "height": 253
        },
        "outputId": "b368fe60-4047-4204-b5bd-6c83f6c756db"
      },
      "source": [
        "# We iterate through the list of ingredients and the raw sentences and for each sentences that contains the ingredient we add the verb in it to the DF\n",
        "for ingre in ingre_red:\n",
        "  count = 0\n",
        "  for s in range(len(extract)):\n",
        "  #for s in extract:\n",
        "    if ingre in extract[s]:\n",
        "      doc = nlp(extract[s])\n",
        "      for token in doc:\n",
        "        if token.pos_ == 'VERB':\n",
        "          if str(token) in prep_modes_f:\n",
        "    #if ingre in filt_sentences[s]:\n",
        "            try:\n",
        "              ingre_df[ingre][count] = str(token.lemma_)\n",
        "              count += 1\n",
        "            except:\n",
        "              KeyError\n",
        "        # melt appears with a space -- 'melt '\n",
        "ingre_df.head()"
      ],
      "execution_count": null,
      "outputs": [
        {
          "output_type": "execute_result",
          "data": {
            "text/html": [
              "<div>\n",
              "<style scoped>\n",
              "    .dataframe tbody tr th:only-of-type {\n",
              "        vertical-align: middle;\n",
              "    }\n",
              "\n",
              "    .dataframe tbody tr th {\n",
              "        vertical-align: top;\n",
              "    }\n",
              "\n",
              "    .dataframe thead th {\n",
              "        text-align: right;\n",
              "    }\n",
              "</style>\n",
              "<table border=\"1\" class=\"dataframe\">\n",
              "  <thead>\n",
              "    <tr style=\"text-align: right;\">\n",
              "      <th></th>\n",
              "      <th>salt</th>\n",
              "      <th>pepper</th>\n",
              "      <th>sugar</th>\n",
              "      <th>white</th>\n",
              "      <th>onion</th>\n",
              "      <th>oil</th>\n",
              "      <th>butter</th>\n",
              "      <th>garlic</th>\n",
              "      <th>flour</th>\n",
              "      <th>egg</th>\n",
              "      <th>cheese</th>\n",
              "      <th>slice</th>\n",
              "      <th>water</th>\n",
              "      <th>milk</th>\n",
              "      <th>olive</th>\n",
              "      <th>vanilla</th>\n",
              "      <th>mince</th>\n",
              "      <th>chicken</th>\n",
              "      <th>green</th>\n",
              "      <th>peel</th>\n",
              "      <th>brown</th>\n",
              "      <th>lemon</th>\n",
              "      <th>tomato</th>\n",
              "      <th>drain</th>\n",
              "      <th>cinnamon</th>\n",
              "      <th>vinegar</th>\n",
              "      <th>soda</th>\n",
              "      <th>beef</th>\n",
              "      <th>bell</th>\n",
              "      <th>potato</th>\n",
              "      <th>advertisement</th>\n",
              "      <th>bread</th>\n",
              "      <th>crush</th>\n",
              "      <th>chocolate</th>\n",
              "      <th>cook</th>\n",
              "      <th>broth</th>\n",
              "      <th>parsley</th>\n",
              "      <th>divide</th>\n",
              "      <th>cheddar</th>\n",
              "      <th>celery</th>\n",
              "      <th>...</th>\n",
              "      <th>rind</th>\n",
              "      <th>idahoan</th>\n",
              "      <th>spiral</th>\n",
              "      <th>plantain</th>\n",
              "      <th>choice</th>\n",
              "      <th>pouch</th>\n",
              "      <th>duncan</th>\n",
              "      <th>tot</th>\n",
              "      <th>dole</th>\n",
              "      <th>citrus</th>\n",
              "      <th>cornflakes</th>\n",
              "      <th>membrane</th>\n",
              "      <th>thread</th>\n",
              "      <th>hines</th>\n",
              "      <th>factory</th>\n",
              "      <th>mangos</th>\n",
              "      <th>crisps</th>\n",
              "      <th>fontina</th>\n",
              "      <th>granola</th>\n",
              "      <th>heinz</th>\n",
              "      <th>skirt</th>\n",
              "      <th>ritz</th>\n",
              "      <th>mexico</th>\n",
              "      <th>chex</th>\n",
              "      <th>hazelnuts</th>\n",
              "      <th>kitchen</th>\n",
              "      <th>grit</th>\n",
              "      <th>seaweed</th>\n",
              "      <th>segments</th>\n",
              "      <th>burgundy</th>\n",
              "      <th>shank</th>\n",
              "      <th>anaheim</th>\n",
              "      <th>zesty</th>\n",
              "      <th>vermicelli</th>\n",
              "      <th>mixture</th>\n",
              "      <th>nestle</th>\n",
              "      <th>shuck</th>\n",
              "      <th>rack</th>\n",
              "      <th>pecorino</th>\n",
              "      <th>buckwheat</th>\n",
              "    </tr>\n",
              "  </thead>\n",
              "  <tbody>\n",
              "    <tr>\n",
              "      <th>0</th>\n",
              "      <td>combine</td>\n",
              "      <td>combine</td>\n",
              "      <td>mix</td>\n",
              "      <td>combine</td>\n",
              "      <td>mix</td>\n",
              "      <td>add</td>\n",
              "      <td>mix</td>\n",
              "      <td>add</td>\n",
              "      <td>combine</td>\n",
              "      <td>stir</td>\n",
              "      <td>stir</td>\n",
              "      <td>add</td>\n",
              "      <td>mix</td>\n",
              "      <td>cook</td>\n",
              "      <td>add</td>\n",
              "      <td>stir</td>\n",
              "      <td></td>\n",
              "      <td>combine</td>\n",
              "      <td>stir</td>\n",
              "      <td></td>\n",
              "      <td>cook</td>\n",
              "      <td>mix</td>\n",
              "      <td>stir</td>\n",
              "      <td>drain</td>\n",
              "      <td>whisk</td>\n",
              "      <td>combine</td>\n",
              "      <td>combine</td>\n",
              "      <td>add</td>\n",
              "      <td></td>\n",
              "      <td>add</td>\n",
              "      <td></td>\n",
              "      <td>mix</td>\n",
              "      <td></td>\n",
              "      <td>stir</td>\n",
              "      <td>cook</td>\n",
              "      <td>stir</td>\n",
              "      <td>combine</td>\n",
              "      <td></td>\n",
              "      <td></td>\n",
              "      <td>combine</td>\n",
              "      <td>...</td>\n",
              "      <td>combine</td>\n",
              "      <td></td>\n",
              "      <td></td>\n",
              "      <td></td>\n",
              "      <td></td>\n",
              "      <td></td>\n",
              "      <td></td>\n",
              "      <td></td>\n",
              "      <td></td>\n",
              "      <td></td>\n",
              "      <td></td>\n",
              "      <td></td>\n",
              "      <td></td>\n",
              "      <td></td>\n",
              "      <td></td>\n",
              "      <td></td>\n",
              "      <td></td>\n",
              "      <td></td>\n",
              "      <td></td>\n",
              "      <td></td>\n",
              "      <td></td>\n",
              "      <td></td>\n",
              "      <td></td>\n",
              "      <td></td>\n",
              "      <td></td>\n",
              "      <td></td>\n",
              "      <td></td>\n",
              "      <td></td>\n",
              "      <td></td>\n",
              "      <td></td>\n",
              "      <td></td>\n",
              "      <td></td>\n",
              "      <td></td>\n",
              "      <td></td>\n",
              "      <td>stir</td>\n",
              "      <td></td>\n",
              "      <td></td>\n",
              "      <td>mix</td>\n",
              "      <td></td>\n",
              "      <td></td>\n",
              "    </tr>\n",
              "    <tr>\n",
              "      <th>1</th>\n",
              "      <td>add</td>\n",
              "      <td>mix</td>\n",
              "      <td>add</td>\n",
              "      <td>sprinkle</td>\n",
              "      <td>stir</td>\n",
              "      <td>cook</td>\n",
              "      <td>mix</td>\n",
              "      <td>combine</td>\n",
              "      <td>stir</td>\n",
              "      <td>mix</td>\n",
              "      <td>sprinkle</td>\n",
              "      <td>arrange</td>\n",
              "      <td>add</td>\n",
              "      <td>mash</td>\n",
              "      <td>cook</td>\n",
              "      <td>stir</td>\n",
              "      <td></td>\n",
              "      <td>stir</td>\n",
              "      <td>drain</td>\n",
              "      <td></td>\n",
              "      <td>mix</td>\n",
              "      <td>stir</td>\n",
              "      <td>combine</td>\n",
              "      <td>cook</td>\n",
              "      <td>mix</td>\n",
              "      <td>whisk</td>\n",
              "      <td>whisk</td>\n",
              "      <td>drain</td>\n",
              "      <td></td>\n",
              "      <td>cook</td>\n",
              "      <td></td>\n",
              "      <td>combine</td>\n",
              "      <td></td>\n",
              "      <td>pour</td>\n",
              "      <td>place</td>\n",
              "      <td>reduce</td>\n",
              "      <td>combine</td>\n",
              "      <td></td>\n",
              "      <td></td>\n",
              "      <td></td>\n",
              "      <td>...</td>\n",
              "      <td></td>\n",
              "      <td></td>\n",
              "      <td></td>\n",
              "      <td></td>\n",
              "      <td></td>\n",
              "      <td></td>\n",
              "      <td></td>\n",
              "      <td></td>\n",
              "      <td></td>\n",
              "      <td></td>\n",
              "      <td></td>\n",
              "      <td></td>\n",
              "      <td></td>\n",
              "      <td></td>\n",
              "      <td></td>\n",
              "      <td></td>\n",
              "      <td></td>\n",
              "      <td></td>\n",
              "      <td></td>\n",
              "      <td></td>\n",
              "      <td></td>\n",
              "      <td></td>\n",
              "      <td></td>\n",
              "      <td></td>\n",
              "      <td></td>\n",
              "      <td></td>\n",
              "      <td></td>\n",
              "      <td></td>\n",
              "      <td></td>\n",
              "      <td></td>\n",
              "      <td></td>\n",
              "      <td></td>\n",
              "      <td></td>\n",
              "      <td></td>\n",
              "      <td>cook</td>\n",
              "      <td></td>\n",
              "      <td></td>\n",
              "      <td>combine</td>\n",
              "      <td></td>\n",
              "      <td></td>\n",
              "    </tr>\n",
              "    <tr>\n",
              "      <th>2</th>\n",
              "      <td>cook</td>\n",
              "      <td>drain</td>\n",
              "      <td>stir</td>\n",
              "      <td>stir</td>\n",
              "      <td>add</td>\n",
              "      <td>add</td>\n",
              "      <td>melt</td>\n",
              "      <td>mix</td>\n",
              "      <td>cook</td>\n",
              "      <td>add</td>\n",
              "      <td>mix</td>\n",
              "      <td></td>\n",
              "      <td>cook</td>\n",
              "      <td>add</td>\n",
              "      <td>stir</td>\n",
              "      <td>mix</td>\n",
              "      <td></td>\n",
              "      <td>cook</td>\n",
              "      <td>melt</td>\n",
              "      <td></td>\n",
              "      <td>mix</td>\n",
              "      <td></td>\n",
              "      <td>stir</td>\n",
              "      <td>drain</td>\n",
              "      <td>combine</td>\n",
              "      <td>stir</td>\n",
              "      <td>combine</td>\n",
              "      <td>combine</td>\n",
              "      <td></td>\n",
              "      <td>mash</td>\n",
              "      <td></td>\n",
              "      <td>mix</td>\n",
              "      <td></td>\n",
              "      <td></td>\n",
              "      <td>mix</td>\n",
              "      <td>add</td>\n",
              "      <td></td>\n",
              "      <td></td>\n",
              "      <td></td>\n",
              "      <td></td>\n",
              "      <td>...</td>\n",
              "      <td></td>\n",
              "      <td></td>\n",
              "      <td></td>\n",
              "      <td></td>\n",
              "      <td></td>\n",
              "      <td></td>\n",
              "      <td></td>\n",
              "      <td></td>\n",
              "      <td></td>\n",
              "      <td></td>\n",
              "      <td></td>\n",
              "      <td></td>\n",
              "      <td></td>\n",
              "      <td></td>\n",
              "      <td></td>\n",
              "      <td></td>\n",
              "      <td></td>\n",
              "      <td></td>\n",
              "      <td></td>\n",
              "      <td></td>\n",
              "      <td></td>\n",
              "      <td></td>\n",
              "      <td></td>\n",
              "      <td></td>\n",
              "      <td></td>\n",
              "      <td></td>\n",
              "      <td></td>\n",
              "      <td></td>\n",
              "      <td></td>\n",
              "      <td></td>\n",
              "      <td></td>\n",
              "      <td></td>\n",
              "      <td></td>\n",
              "      <td></td>\n",
              "      <td>reduce</td>\n",
              "      <td></td>\n",
              "      <td></td>\n",
              "      <td>pour</td>\n",
              "      <td></td>\n",
              "      <td></td>\n",
              "    </tr>\n",
              "    <tr>\n",
              "      <th>3</th>\n",
              "      <td>add</td>\n",
              "      <td>mix</td>\n",
              "      <td>combine</td>\n",
              "      <td>mix</td>\n",
              "      <td>cook</td>\n",
              "      <td>mix</td>\n",
              "      <td>cook</td>\n",
              "      <td>mix</td>\n",
              "      <td>whisk</td>\n",
              "      <td>combine</td>\n",
              "      <td>combine</td>\n",
              "      <td></td>\n",
              "      <td>mix</td>\n",
              "      <td>stir</td>\n",
              "      <td>stir</td>\n",
              "      <td>combine</td>\n",
              "      <td></td>\n",
              "      <td>simmer</td>\n",
              "      <td>saute</td>\n",
              "      <td></td>\n",
              "      <td>cook</td>\n",
              "      <td></td>\n",
              "      <td>combine</td>\n",
              "      <td>drain</td>\n",
              "      <td>sprinkle</td>\n",
              "      <td>stir</td>\n",
              "      <td>mix</td>\n",
              "      <td>mix</td>\n",
              "      <td></td>\n",
              "      <td>cook</td>\n",
              "      <td></td>\n",
              "      <td>combine</td>\n",
              "      <td></td>\n",
              "      <td></td>\n",
              "      <td>add</td>\n",
              "      <td>add</td>\n",
              "      <td></td>\n",
              "      <td></td>\n",
              "      <td></td>\n",
              "      <td></td>\n",
              "      <td>...</td>\n",
              "      <td></td>\n",
              "      <td></td>\n",
              "      <td></td>\n",
              "      <td></td>\n",
              "      <td></td>\n",
              "      <td></td>\n",
              "      <td></td>\n",
              "      <td></td>\n",
              "      <td></td>\n",
              "      <td></td>\n",
              "      <td></td>\n",
              "      <td></td>\n",
              "      <td></td>\n",
              "      <td></td>\n",
              "      <td></td>\n",
              "      <td></td>\n",
              "      <td></td>\n",
              "      <td></td>\n",
              "      <td></td>\n",
              "      <td></td>\n",
              "      <td></td>\n",
              "      <td></td>\n",
              "      <td></td>\n",
              "      <td></td>\n",
              "      <td></td>\n",
              "      <td></td>\n",
              "      <td></td>\n",
              "      <td></td>\n",
              "      <td></td>\n",
              "      <td></td>\n",
              "      <td></td>\n",
              "      <td></td>\n",
              "      <td></td>\n",
              "      <td></td>\n",
              "      <td>cook</td>\n",
              "      <td></td>\n",
              "      <td></td>\n",
              "      <td></td>\n",
              "      <td></td>\n",
              "      <td></td>\n",
              "    </tr>\n",
              "    <tr>\n",
              "      <th>4</th>\n",
              "      <td>whisk</td>\n",
              "      <td>place</td>\n",
              "      <td>sift</td>\n",
              "      <td>mix</td>\n",
              "      <td>mix</td>\n",
              "      <td>add</td>\n",
              "      <td>pour</td>\n",
              "      <td>cook</td>\n",
              "      <td>combine</td>\n",
              "      <td>stir</td>\n",
              "      <td>sprinkle</td>\n",
              "      <td></td>\n",
              "      <td>add</td>\n",
              "      <td>cook</td>\n",
              "      <td>combine</td>\n",
              "      <td>stir</td>\n",
              "      <td></td>\n",
              "      <td>pour</td>\n",
              "      <td>stir</td>\n",
              "      <td></td>\n",
              "      <td>cook</td>\n",
              "      <td></td>\n",
              "      <td></td>\n",
              "      <td>drain</td>\n",
              "      <td>sprinkle</td>\n",
              "      <td>add</td>\n",
              "      <td>stir</td>\n",
              "      <td>saute</td>\n",
              "      <td></td>\n",
              "      <td>simmer</td>\n",
              "      <td></td>\n",
              "      <td>mix</td>\n",
              "      <td></td>\n",
              "      <td></td>\n",
              "      <td>cook</td>\n",
              "      <td></td>\n",
              "      <td></td>\n",
              "      <td></td>\n",
              "      <td></td>\n",
              "      <td></td>\n",
              "      <td>...</td>\n",
              "      <td></td>\n",
              "      <td></td>\n",
              "      <td></td>\n",
              "      <td></td>\n",
              "      <td></td>\n",
              "      <td></td>\n",
              "      <td></td>\n",
              "      <td></td>\n",
              "      <td></td>\n",
              "      <td></td>\n",
              "      <td></td>\n",
              "      <td></td>\n",
              "      <td></td>\n",
              "      <td></td>\n",
              "      <td></td>\n",
              "      <td></td>\n",
              "      <td></td>\n",
              "      <td></td>\n",
              "      <td></td>\n",
              "      <td></td>\n",
              "      <td></td>\n",
              "      <td></td>\n",
              "      <td></td>\n",
              "      <td></td>\n",
              "      <td></td>\n",
              "      <td></td>\n",
              "      <td></td>\n",
              "      <td></td>\n",
              "      <td></td>\n",
              "      <td></td>\n",
              "      <td></td>\n",
              "      <td></td>\n",
              "      <td></td>\n",
              "      <td></td>\n",
              "      <td>stir</td>\n",
              "      <td></td>\n",
              "      <td></td>\n",
              "      <td></td>\n",
              "      <td></td>\n",
              "      <td></td>\n",
              "    </tr>\n",
              "  </tbody>\n",
              "</table>\n",
              "<p>5 rows × 934 columns</p>\n",
              "</div>"
            ],
            "text/plain": [
              "      salt   pepper    sugar     white  ... shuck     rack pecorino buckwheat\n",
              "0  combine  combine      mix   combine  ...            mix                   \n",
              "1      add      mix      add  sprinkle  ...        combine                   \n",
              "2     cook    drain     stir      stir  ...           pour                   \n",
              "3      add      mix  combine       mix  ...                                  \n",
              "4    whisk    place     sift       mix  ...                                  \n",
              "\n",
              "[5 rows x 934 columns]"
            ]
          },
          "metadata": {
            "tags": []
          },
          "execution_count": 17
        }
      ]
    },
    {
      "cell_type": "code",
      "metadata": {
        "id": "hjiQEmiedL5u",
        "colab": {
          "base_uri": "https://localhost:8080/",
          "height": 222
        },
        "outputId": "81de5d9a-5124-469a-98a5-d7f3c625c9e2"
      },
      "source": [
        "ingre_df.describe()"
      ],
      "execution_count": null,
      "outputs": [
        {
          "output_type": "execute_result",
          "data": {
            "text/html": [
              "<div>\n",
              "<style scoped>\n",
              "    .dataframe tbody tr th:only-of-type {\n",
              "        vertical-align: middle;\n",
              "    }\n",
              "\n",
              "    .dataframe tbody tr th {\n",
              "        vertical-align: top;\n",
              "    }\n",
              "\n",
              "    .dataframe thead th {\n",
              "        text-align: right;\n",
              "    }\n",
              "</style>\n",
              "<table border=\"1\" class=\"dataframe\">\n",
              "  <thead>\n",
              "    <tr style=\"text-align: right;\">\n",
              "      <th></th>\n",
              "      <th>salt</th>\n",
              "      <th>pepper</th>\n",
              "      <th>sugar</th>\n",
              "      <th>white</th>\n",
              "      <th>onion</th>\n",
              "      <th>oil</th>\n",
              "      <th>butter</th>\n",
              "      <th>garlic</th>\n",
              "      <th>flour</th>\n",
              "      <th>egg</th>\n",
              "      <th>cheese</th>\n",
              "      <th>slice</th>\n",
              "      <th>water</th>\n",
              "      <th>milk</th>\n",
              "      <th>olive</th>\n",
              "      <th>vanilla</th>\n",
              "      <th>mince</th>\n",
              "      <th>chicken</th>\n",
              "      <th>green</th>\n",
              "      <th>peel</th>\n",
              "      <th>brown</th>\n",
              "      <th>lemon</th>\n",
              "      <th>tomato</th>\n",
              "      <th>drain</th>\n",
              "      <th>cinnamon</th>\n",
              "      <th>vinegar</th>\n",
              "      <th>soda</th>\n",
              "      <th>beef</th>\n",
              "      <th>bell</th>\n",
              "      <th>potato</th>\n",
              "      <th>advertisement</th>\n",
              "      <th>bread</th>\n",
              "      <th>crush</th>\n",
              "      <th>chocolate</th>\n",
              "      <th>cook</th>\n",
              "      <th>broth</th>\n",
              "      <th>parsley</th>\n",
              "      <th>divide</th>\n",
              "      <th>cheddar</th>\n",
              "      <th>celery</th>\n",
              "      <th>...</th>\n",
              "      <th>rind</th>\n",
              "      <th>idahoan</th>\n",
              "      <th>spiral</th>\n",
              "      <th>plantain</th>\n",
              "      <th>choice</th>\n",
              "      <th>pouch</th>\n",
              "      <th>duncan</th>\n",
              "      <th>tot</th>\n",
              "      <th>dole</th>\n",
              "      <th>citrus</th>\n",
              "      <th>cornflakes</th>\n",
              "      <th>membrane</th>\n",
              "      <th>thread</th>\n",
              "      <th>hines</th>\n",
              "      <th>factory</th>\n",
              "      <th>mangos</th>\n",
              "      <th>crisps</th>\n",
              "      <th>fontina</th>\n",
              "      <th>granola</th>\n",
              "      <th>heinz</th>\n",
              "      <th>skirt</th>\n",
              "      <th>ritz</th>\n",
              "      <th>mexico</th>\n",
              "      <th>chex</th>\n",
              "      <th>hazelnuts</th>\n",
              "      <th>kitchen</th>\n",
              "      <th>grit</th>\n",
              "      <th>seaweed</th>\n",
              "      <th>segments</th>\n",
              "      <th>burgundy</th>\n",
              "      <th>shank</th>\n",
              "      <th>anaheim</th>\n",
              "      <th>zesty</th>\n",
              "      <th>vermicelli</th>\n",
              "      <th>mixture</th>\n",
              "      <th>nestle</th>\n",
              "      <th>shuck</th>\n",
              "      <th>rack</th>\n",
              "      <th>pecorino</th>\n",
              "      <th>buckwheat</th>\n",
              "    </tr>\n",
              "  </thead>\n",
              "  <tbody>\n",
              "    <tr>\n",
              "      <th>count</th>\n",
              "      <td>10000</td>\n",
              "      <td>10000</td>\n",
              "      <td>10000</td>\n",
              "      <td>10000</td>\n",
              "      <td>10000</td>\n",
              "      <td>10000</td>\n",
              "      <td>10000</td>\n",
              "      <td>10000</td>\n",
              "      <td>10000</td>\n",
              "      <td>10000</td>\n",
              "      <td>10000</td>\n",
              "      <td>10000</td>\n",
              "      <td>10000</td>\n",
              "      <td>10000</td>\n",
              "      <td>10000</td>\n",
              "      <td>10000</td>\n",
              "      <td>10000</td>\n",
              "      <td>10000</td>\n",
              "      <td>10000</td>\n",
              "      <td>10000</td>\n",
              "      <td>10000</td>\n",
              "      <td>10000</td>\n",
              "      <td>10000</td>\n",
              "      <td>10000</td>\n",
              "      <td>10000</td>\n",
              "      <td>10000</td>\n",
              "      <td>10000</td>\n",
              "      <td>10000</td>\n",
              "      <td>10000</td>\n",
              "      <td>10000</td>\n",
              "      <td>10000</td>\n",
              "      <td>10000</td>\n",
              "      <td>10000</td>\n",
              "      <td>10000</td>\n",
              "      <td>10000</td>\n",
              "      <td>10000</td>\n",
              "      <td>10000</td>\n",
              "      <td>10000</td>\n",
              "      <td>10000</td>\n",
              "      <td>10000</td>\n",
              "      <td>...</td>\n",
              "      <td>10000</td>\n",
              "      <td>10000</td>\n",
              "      <td>10000</td>\n",
              "      <td>10000</td>\n",
              "      <td>10000</td>\n",
              "      <td>10000</td>\n",
              "      <td>10000</td>\n",
              "      <td>10000</td>\n",
              "      <td>10000</td>\n",
              "      <td>10000</td>\n",
              "      <td>10000</td>\n",
              "      <td>10000</td>\n",
              "      <td>10000</td>\n",
              "      <td>10000</td>\n",
              "      <td>10000</td>\n",
              "      <td>10000</td>\n",
              "      <td>10000</td>\n",
              "      <td>10000</td>\n",
              "      <td>10000</td>\n",
              "      <td>10000</td>\n",
              "      <td>10000</td>\n",
              "      <td>10000</td>\n",
              "      <td>10000</td>\n",
              "      <td>10000</td>\n",
              "      <td>10000</td>\n",
              "      <td>10000</td>\n",
              "      <td>10000</td>\n",
              "      <td>10000</td>\n",
              "      <td>10000</td>\n",
              "      <td>10000</td>\n",
              "      <td>10000</td>\n",
              "      <td>10000</td>\n",
              "      <td>10000</td>\n",
              "      <td>10000</td>\n",
              "      <td>10000</td>\n",
              "      <td>10000</td>\n",
              "      <td>10000</td>\n",
              "      <td>10000</td>\n",
              "      <td>10000</td>\n",
              "      <td>10000</td>\n",
              "    </tr>\n",
              "    <tr>\n",
              "      <th>unique</th>\n",
              "      <td>14</td>\n",
              "      <td>9</td>\n",
              "      <td>10</td>\n",
              "      <td>7</td>\n",
              "      <td>11</td>\n",
              "      <td>13</td>\n",
              "      <td>10</td>\n",
              "      <td>8</td>\n",
              "      <td>14</td>\n",
              "      <td>8</td>\n",
              "      <td>9</td>\n",
              "      <td>3</td>\n",
              "      <td>10</td>\n",
              "      <td>9</td>\n",
              "      <td>5</td>\n",
              "      <td>4</td>\n",
              "      <td>1</td>\n",
              "      <td>11</td>\n",
              "      <td>5</td>\n",
              "      <td>1</td>\n",
              "      <td>9</td>\n",
              "      <td>3</td>\n",
              "      <td>3</td>\n",
              "      <td>4</td>\n",
              "      <td>6</td>\n",
              "      <td>5</td>\n",
              "      <td>5</td>\n",
              "      <td>7</td>\n",
              "      <td>1</td>\n",
              "      <td>5</td>\n",
              "      <td>1</td>\n",
              "      <td>3</td>\n",
              "      <td>1</td>\n",
              "      <td>3</td>\n",
              "      <td>11</td>\n",
              "      <td>4</td>\n",
              "      <td>2</td>\n",
              "      <td>1</td>\n",
              "      <td>1</td>\n",
              "      <td>2</td>\n",
              "      <td>...</td>\n",
              "      <td>2</td>\n",
              "      <td>1</td>\n",
              "      <td>1</td>\n",
              "      <td>1</td>\n",
              "      <td>1</td>\n",
              "      <td>1</td>\n",
              "      <td>1</td>\n",
              "      <td>1</td>\n",
              "      <td>1</td>\n",
              "      <td>1</td>\n",
              "      <td>1</td>\n",
              "      <td>1</td>\n",
              "      <td>1</td>\n",
              "      <td>1</td>\n",
              "      <td>1</td>\n",
              "      <td>1</td>\n",
              "      <td>1</td>\n",
              "      <td>1</td>\n",
              "      <td>1</td>\n",
              "      <td>1</td>\n",
              "      <td>1</td>\n",
              "      <td>1</td>\n",
              "      <td>1</td>\n",
              "      <td>1</td>\n",
              "      <td>1</td>\n",
              "      <td>1</td>\n",
              "      <td>1</td>\n",
              "      <td>1</td>\n",
              "      <td>1</td>\n",
              "      <td>1</td>\n",
              "      <td>1</td>\n",
              "      <td>1</td>\n",
              "      <td>1</td>\n",
              "      <td>1</td>\n",
              "      <td>11</td>\n",
              "      <td>1</td>\n",
              "      <td>1</td>\n",
              "      <td>4</td>\n",
              "      <td>1</td>\n",
              "      <td>1</td>\n",
              "    </tr>\n",
              "    <tr>\n",
              "      <th>top</th>\n",
              "      <td></td>\n",
              "      <td></td>\n",
              "      <td></td>\n",
              "      <td></td>\n",
              "      <td></td>\n",
              "      <td></td>\n",
              "      <td></td>\n",
              "      <td></td>\n",
              "      <td></td>\n",
              "      <td></td>\n",
              "      <td></td>\n",
              "      <td></td>\n",
              "      <td></td>\n",
              "      <td></td>\n",
              "      <td></td>\n",
              "      <td></td>\n",
              "      <td></td>\n",
              "      <td></td>\n",
              "      <td></td>\n",
              "      <td></td>\n",
              "      <td></td>\n",
              "      <td></td>\n",
              "      <td></td>\n",
              "      <td></td>\n",
              "      <td></td>\n",
              "      <td></td>\n",
              "      <td></td>\n",
              "      <td></td>\n",
              "      <td></td>\n",
              "      <td></td>\n",
              "      <td></td>\n",
              "      <td></td>\n",
              "      <td></td>\n",
              "      <td></td>\n",
              "      <td></td>\n",
              "      <td></td>\n",
              "      <td></td>\n",
              "      <td></td>\n",
              "      <td></td>\n",
              "      <td></td>\n",
              "      <td>...</td>\n",
              "      <td></td>\n",
              "      <td></td>\n",
              "      <td></td>\n",
              "      <td></td>\n",
              "      <td></td>\n",
              "      <td></td>\n",
              "      <td></td>\n",
              "      <td></td>\n",
              "      <td></td>\n",
              "      <td></td>\n",
              "      <td></td>\n",
              "      <td></td>\n",
              "      <td></td>\n",
              "      <td></td>\n",
              "      <td></td>\n",
              "      <td></td>\n",
              "      <td></td>\n",
              "      <td></td>\n",
              "      <td></td>\n",
              "      <td></td>\n",
              "      <td></td>\n",
              "      <td></td>\n",
              "      <td></td>\n",
              "      <td></td>\n",
              "      <td></td>\n",
              "      <td></td>\n",
              "      <td></td>\n",
              "      <td></td>\n",
              "      <td></td>\n",
              "      <td></td>\n",
              "      <td></td>\n",
              "      <td></td>\n",
              "      <td></td>\n",
              "      <td></td>\n",
              "      <td></td>\n",
              "      <td></td>\n",
              "      <td></td>\n",
              "      <td></td>\n",
              "      <td></td>\n",
              "      <td></td>\n",
              "    </tr>\n",
              "    <tr>\n",
              "      <th>freq</th>\n",
              "      <td>9964</td>\n",
              "      <td>9982</td>\n",
              "      <td>9965</td>\n",
              "      <td>9992</td>\n",
              "      <td>9976</td>\n",
              "      <td>9973</td>\n",
              "      <td>9977</td>\n",
              "      <td>9981</td>\n",
              "      <td>9966</td>\n",
              "      <td>9978</td>\n",
              "      <td>9981</td>\n",
              "      <td>9998</td>\n",
              "      <td>9979</td>\n",
              "      <td>9978</td>\n",
              "      <td>9995</td>\n",
              "      <td>9990</td>\n",
              "      <td>10000</td>\n",
              "      <td>9984</td>\n",
              "      <td>9995</td>\n",
              "      <td>10000</td>\n",
              "      <td>9980</td>\n",
              "      <td>9998</td>\n",
              "      <td>9996</td>\n",
              "      <td>9992</td>\n",
              "      <td>9990</td>\n",
              "      <td>9994</td>\n",
              "      <td>9988</td>\n",
              "      <td>9990</td>\n",
              "      <td>10000</td>\n",
              "      <td>9993</td>\n",
              "      <td>10000</td>\n",
              "      <td>9994</td>\n",
              "      <td>10000</td>\n",
              "      <td>9998</td>\n",
              "      <td>9946</td>\n",
              "      <td>9996</td>\n",
              "      <td>9998</td>\n",
              "      <td>10000</td>\n",
              "      <td>10000</td>\n",
              "      <td>9999</td>\n",
              "      <td>...</td>\n",
              "      <td>9999</td>\n",
              "      <td>10000</td>\n",
              "      <td>10000</td>\n",
              "      <td>10000</td>\n",
              "      <td>10000</td>\n",
              "      <td>10000</td>\n",
              "      <td>10000</td>\n",
              "      <td>10000</td>\n",
              "      <td>10000</td>\n",
              "      <td>10000</td>\n",
              "      <td>10000</td>\n",
              "      <td>10000</td>\n",
              "      <td>10000</td>\n",
              "      <td>10000</td>\n",
              "      <td>10000</td>\n",
              "      <td>10000</td>\n",
              "      <td>10000</td>\n",
              "      <td>10000</td>\n",
              "      <td>10000</td>\n",
              "      <td>10000</td>\n",
              "      <td>10000</td>\n",
              "      <td>10000</td>\n",
              "      <td>10000</td>\n",
              "      <td>10000</td>\n",
              "      <td>10000</td>\n",
              "      <td>10000</td>\n",
              "      <td>10000</td>\n",
              "      <td>10000</td>\n",
              "      <td>10000</td>\n",
              "      <td>10000</td>\n",
              "      <td>10000</td>\n",
              "      <td>10000</td>\n",
              "      <td>10000</td>\n",
              "      <td>10000</td>\n",
              "      <td>9965</td>\n",
              "      <td>10000</td>\n",
              "      <td>10000</td>\n",
              "      <td>9997</td>\n",
              "      <td>10000</td>\n",
              "      <td>10000</td>\n",
              "    </tr>\n",
              "  </tbody>\n",
              "</table>\n",
              "<p>4 rows × 934 columns</p>\n",
              "</div>"
            ],
            "text/plain": [
              "         salt pepper  sugar  white  ...  shuck   rack pecorino buckwheat\n",
              "count   10000  10000  10000  10000  ...  10000  10000    10000     10000\n",
              "unique     14      9     10      7  ...      1      4        1         1\n",
              "top                                 ...                                 \n",
              "freq     9964   9982   9965   9992  ...  10000   9997    10000     10000\n",
              "\n",
              "[4 rows x 934 columns]"
            ]
          },
          "metadata": {
            "tags": []
          },
          "execution_count": 18
        }
      ]
    },
    {
      "cell_type": "markdown",
      "metadata": {
        "id": "bilKzCVSdL5z"
      },
      "source": [
        "-- Count verbs per ingredient and see percentages\n",
        "-- Return the 3 highest percentages (most likely prep modes)\n"
      ]
    },
    {
      "cell_type": "code",
      "metadata": {
        "id": "NlANKLoBdL50",
        "colab": {
          "base_uri": "https://localhost:8080/",
          "height": 34
        },
        "outputId": "5aa25d5e-cfe4-4823-9309-1e7589d7205f"
      },
      "source": [
        "# Counting frequencies of prep modes per ingredient, and making a dictionary with the top 4\n",
        "from heapq import nlargest\n",
        "#ingre2_df.nlargest(3, ingre)\n",
        "#(df.iloc[:3])\n",
        "ingre_top_modes = {}\n",
        "for ingre in ingre_red:\n",
        "  top4 = ingre_df[ingre].value_counts().nlargest(11)\n",
        "  ingre_top_modes[ingre] = top4.to_dict()\n",
        "\n",
        "print(ingre_top_modes['garlic'])"
      ],
      "execution_count": null,
      "outputs": [
        {
          "output_type": "stream",
          "text": [
            "{'': 9981, 'mix': 5, 'stir': 4, 'cook': 3, 'combine': 3, 'add': 2, 'simmer': 1, 'salt': 1}\n"
          ],
          "name": "stdout"
        }
      ]
    },
    {
      "cell_type": "code",
      "metadata": {
        "id": "zocufY1zdL54",
        "colab": {
          "base_uri": "https://localhost:8080/",
          "height": 34
        },
        "outputId": "06a020da-ae91-43ce-8a5c-7f9348816dfd"
      },
      "source": [
        "# remove the top 1 = '', get only the prep modes!\n",
        "for ingre in ingre_red:\n",
        "  if '' in ingre_top_modes[ingre]: \n",
        "    del ingre_top_modes[ingre]['']\n",
        "print(ingre_top_modes['garlic'])"
      ],
      "execution_count": null,
      "outputs": [
        {
          "output_type": "stream",
          "text": [
            "{'mix': 5, 'stir': 4, 'cook': 3, 'combine': 3, 'add': 2, 'simmer': 1, 'salt': 1}\n"
          ],
          "name": "stdout"
        }
      ]
    },
    {
      "cell_type": "code",
      "metadata": {
        "id": "_CC2ng13dL57"
      },
      "source": [
        "#pickle.dump(ingre_top_modes, open(\"ingredients_prep_modes_50000_2.pkl\", \"wb\"))"
      ],
      "execution_count": null,
      "outputs": []
    },
    {
      "cell_type": "markdown",
      "metadata": {
        "id": "U9VegCS30WmO"
      },
      "source": [
        "-- With a function and the final ingredients list search in our ingre_prep_mode file and return the different preparation modes\n",
        "--> done in separate notebook"
      ]
    },
    {
      "cell_type": "code",
      "metadata": {
        "id": "k8T6Vf8Chj5X",
        "colab": {
          "base_uri": "https://localhost:8080/",
          "height": 34
        },
        "outputId": "05c7b472-d46d-41fb-c011-a2939d73136e"
      },
      "source": [
        "print(len(ingre_top_modes))"
      ],
      "execution_count": null,
      "outputs": [
        {
          "output_type": "stream",
          "text": [
            "934\n"
          ],
          "name": "stdout"
        }
      ]
    },
    {
      "cell_type": "code",
      "metadata": {
        "id": "r9yf2q3ygZ3D",
        "colab": {
          "base_uri": "https://localhost:8080/",
          "height": 34
        },
        "outputId": "c272f724-a259-4f40-9578-8a377aea3f33"
      },
      "source": [
        "for ingre in ingre_red:\n",
        "  if len(ingre_top_modes[ingre]) == 0: \n",
        "    del ingre_top_modes[ingre]\n",
        "print(len(ingre_top_modes))"
      ],
      "execution_count": null,
      "outputs": [
        {
          "output_type": "stream",
          "text": [
            "268\n"
          ],
          "name": "stdout"
        }
      ]
    },
    {
      "cell_type": "code",
      "metadata": {
        "id": "H9p8PY_OpoqU"
      },
      "source": [
        "#ingre_top_modes.keys()"
      ],
      "execution_count": null,
      "outputs": []
    },
    {
      "cell_type": "code",
      "metadata": {
        "id": "dD83iIJakiK8",
        "colab": {
          "base_uri": "https://localhost:8080/",
          "height": 34
        },
        "outputId": "ea240263-cc6e-429e-dde0-be2177376b2d"
      },
      "source": [
        "\"\"\"ordered = None\n",
        "ingre_top_sort = ingre_top_modes.copy()\n",
        "for ingre in ingre_red:\n",
        "  try:\n",
        "    ordered = {k: v for k, v in sorted(ingre_top_modes[ingre].items(), key=lambda item: item[1], reverse=True)}\n",
        "    ingre_top_sort[ingre] = ordered\n",
        "  except:\n",
        "    KeyError\n",
        "ingre_top_modes[ingre] = ordered\n",
        "print(ingre_top_modes['eggs'])\"\"\""
      ],
      "execution_count": null,
      "outputs": [
        {
          "output_type": "stream",
          "text": [
            "{'stir': 5, 'mix': 4, 'whisk': 1, 'combine': 1, 'add': 1}\n"
          ],
          "name": "stdout"
        }
      ]
    },
    {
      "cell_type": "code",
      "metadata": {
        "id": "lzygYgI9jno3",
        "colab": {
          "base_uri": "https://localhost:8080/",
          "height": 34
        },
        "outputId": "57c02f35-dd63-435b-8eb5-93a14b10362b"
      },
      "source": [
        "#att = ingre_top_modes['eggs']\n",
        "#print(att)"
      ],
      "execution_count": null,
      "outputs": [
        {
          "output_type": "stream",
          "text": [
            "{'stir': 5, 'mix': 4, 'whisk': 1, 'combine': 1, 'add': 1}\n"
          ],
          "name": "stdout"
        }
      ]
    },
    {
      "cell_type": "code",
      "metadata": {
        "id": "kEObVqq3rFfr",
        "colab": {
          "base_uri": "https://localhost:8080/",
          "height": 34
        },
        "outputId": "161e6b98-9672-48e0-d69d-82b53a2f2f2e"
      },
      "source": [
        "\"\"\"\n",
        "from collections import OrderedDict\n",
        "ord_eggs = OrderedDict(sorted(ingre_top_modes['eggs'].items(), key=lambda x: x[1], reverse=True))\n",
        "print(ord_eggs)\n",
        "\"\"\""
      ],
      "execution_count": null,
      "outputs": [
        {
          "output_type": "stream",
          "text": [
            "OrderedDict([('stir', 5), ('mix', 4), ('whisk', 1), ('combine', 1), ('add', 1)])\n"
          ],
          "name": "stdout"
        }
      ]
    },
    {
      "cell_type": "code",
      "metadata": {
        "id": "i2wO6i-uiDbE",
        "colab": {
          "base_uri": "https://localhost:8080/",
          "height": 71
        },
        "outputId": "70503fca-7850-4487-a164-63e7bfbe358b"
      },
      "source": [
        "phase1_modes = list(prep_mode.phase1)\n",
        "phase2_modes = list(prep_mode.phase2.dropna())\n",
        "phase3_modes = list(prep_mode.phase3.dropna())\n",
        "print(len(phase1_modes))\n",
        "print(phase3_modes)"
      ],
      "execution_count": null,
      "outputs": [
        {
          "output_type": "stream",
          "text": [
            "48\n",
            "['bake', 'braise', 'boil', 'cook', 'fry', 'grill', 'heat', 'ignite', 'microwave', 'roast', 'scramble', 'simmer', 'steam', 'stew', 'stir-fry', 'warm', 'arrange', 'crisp', 'dribble']\n"
          ],
          "name": "stdout"
        }
      ]
    },
    {
      "cell_type": "code",
      "metadata": {
        "id": "A4-dxljvijjA"
      },
      "source": [
        "# a dict of dicts with ingredient and top modes\n",
        "\n",
        "\n",
        "new_dict = {}\n",
        "\n",
        "\n",
        "if ingre.mode is in phase 1 or 2:\n",
        "  ordered = {k: v for k, v in sorted(ingre_top_modes[ingre].items(), key=lambda item: item[1], reverse=True)}\n",
        "  previous.phase = ingre.mode.phase\n",
        "  add ingre to new_dict\n",
        "elif ingre.mode =! previous.phase:\n",
        "  add ingred\n",
        "  pass\n",
        "\n",
        "# something with verbs of different phases for each ingredient.\n",
        "# a dataframe\n",
        "# ----    phase 1 | phase 2 | phase 3\n",
        "# ingre1 | cut    | mix     | fry"
      ],
      "execution_count": null,
      "outputs": []
    },
    {
      "cell_type": "code",
      "metadata": {
        "id": "UUDChQNrv1iF",
        "colab": {
          "base_uri": "https://localhost:8080/",
          "height": 34
        },
        "outputId": "8d536fd6-5a40-4673-ef46-4b5df25248d3"
      },
      "source": [
        "att = ingre_top_modes['beef']\n",
        "print(att)\n",
        "# phase 2: combine, add , mix, saute\n",
        "# phase 1: drain\n",
        "# phase 3: heat\n",
        "\n",
        "# ideal result: beef: {combine, heat}"
      ],
      "execution_count": null,
      "outputs": [
        {
          "output_type": "stream",
          "text": [
            "{'combine': 3, 'add': 2, 'mix': 2, 'heat': 1, 'saute': 1, 'drain': 1}\n"
          ],
          "name": "stdout"
        }
      ]
    },
    {
      "cell_type": "code",
      "metadata": {
        "id": "HjTSf4L0qepD",
        "colab": {
          "base_uri": "https://localhost:8080/",
          "height": 34
        },
        "outputId": "1144f500-7a7b-4f78-a40f-631c1ea7d596"
      },
      "source": [
        "# selecting modes from different phases for each ingredient\n",
        "\n",
        "ingre_modes_order = {}\n",
        "for ingre in list(ingre_top_modes.keys()):\n",
        "  modes_order = []\n",
        "  ordered = {k: v for k, v in sorted(ingre_top_modes[ingre].items(), key=lambda item: item[1], reverse=True)}\n",
        "  # go through all the ordered modes\n",
        "  actual_phase = None\n",
        "  for mode in list(ordered.keys()):\n",
        "    if mode in phase1_modes and actual_phase != 1 and actual_phase != 3:\n",
        "      actual_phase = 1\n",
        "      modes_order.append(mode)\n",
        "    elif mode in phase2_modes and actual_phase != 2 and actual_phase != 3:\n",
        "      actual_phase = 2\n",
        "      modes_order.append(mode)\n",
        "    elif mode in phase3_modes and actual_phase != 3:\n",
        "      actual_phase = 3\n",
        "      modes_order.append(mode)\n",
        "  \n",
        "  ingre_modes_order[ingre] = modes_order\n",
        "  \n",
        "print(ingre_modes_order['pepper'])"
      ],
      "execution_count": null,
      "outputs": [
        {
          "output_type": "stream",
          "text": [
            "['mix', 'pour', 'coat', 'drain']\n"
          ],
          "name": "stdout"
        }
      ]
    },
    {
      "cell_type": "code",
      "metadata": {
        "id": "t50k42a8u8t_",
        "colab": {
          "base_uri": "https://localhost:8080/",
          "height": 34
        },
        "outputId": "014c8ac0-671f-49d9-e4a4-7bf2aee9b7d5"
      },
      "source": [
        "# selecting modes from different phases for each ingredient\n",
        "\n",
        "ingre_modes_order = {}\n",
        "for ingre in list(ingre_top_modes.keys()):\n",
        "  modes_order = []\n",
        "  ordered = {k: v for k, v in sorted(ingre_top_modes[ingre].items(), key=lambda item: item[1], reverse=True)}\n",
        "  # go through all the ordered modes\n",
        "  phase1 = []\n",
        "  phase2 = []\n",
        "  phase3 = []\n",
        "  for mode in list(ordered.keys()):\n",
        "    if mode in phase1_modes:\n",
        "      phase1.append(mode)\n",
        "    elif mode in phase2_modes:\n",
        "      phase2.append(mode)\n",
        "    elif mode in phase3_modes:\n",
        "      phase3.append(mode)\n",
        "  #print(ordered)\n",
        "  #print(phase1)\n",
        "  #print(phase2)\n",
        "  #print(phase3)\n",
        "  try:\n",
        "    modes_order.append(phase1[0])\n",
        "    modes_order.append(phase2[0])\n",
        "    modes_order.append(phase3[0])\n",
        "  except:\n",
        "    IndexError\n",
        "\n",
        "  ingre_modes_order[ingre] = modes_order\n",
        "\n",
        "print(ingre_modes_order['pepper'])"
      ],
      "execution_count": null,
      "outputs": [
        {
          "output_type": "stream",
          "text": [
            "['pour', 'mix']\n"
          ],
          "name": "stdout"
        }
      ]
    },
    {
      "cell_type": "code",
      "metadata": {
        "id": "lct3QG4n0pjb",
        "colab": {
          "base_uri": "https://localhost:8080/",
          "height": 34
        },
        "outputId": "592ce054-3234-4a54-8403-54a6f9c46916"
      },
      "source": [
        "print(ingre_modes_order['garlic'])"
      ],
      "execution_count": null,
      "outputs": [
        {
          "output_type": "stream",
          "text": [
            "[]\n"
          ],
          "name": "stdout"
        }
      ]
    },
    {
      "cell_type": "code",
      "metadata": {
        "id": "vQFFn5z11nsU",
        "colab": {
          "base_uri": "https://localhost:8080/",
          "height": 34
        },
        "outputId": "58022149-7992-47f8-d4ee-f37206774d87"
      },
      "source": [
        "# insert modes for each ingredient for which phases doesn't work!\n",
        "\n",
        "#ingre_modes_order = {}\n",
        "for ingre in list(ingre_top_modes.keys()):\n",
        "  modes_order = []\n",
        "  ordered = {k: v for k, v in sorted(ingre_top_modes[ingre].items(), key=lambda item: item[1], reverse=True)}\n",
        "  # go through all the ordered modes\n",
        "  m_li = list(ordered.keys())\n",
        "  try:\n",
        "    modes_order.append(m_li[0])\n",
        "    modes_order.append(m_li[1])\n",
        "  except:\n",
        "    IndexError\n",
        "\n",
        "  ingre_modes_order[ingre] = modes_order\n",
        "\n",
        "print(ingre_modes_order['garlic'])"
      ],
      "execution_count": null,
      "outputs": [
        {
          "output_type": "stream",
          "text": [
            "['mix', 'stir']\n"
          ],
          "name": "stdout"
        }
      ]
    },
    {
      "cell_type": "code",
      "metadata": {
        "id": "Q_aItkPjxq4K",
        "colab": {
          "base_uri": "https://localhost:8080/",
          "height": 1000
        },
        "outputId": "d5f4fddc-5590-4456-86bf-6cf41dc5cb5f"
      },
      "source": [
        "ingre_modes_order"
      ],
      "execution_count": null,
      "outputs": [
        {
          "output_type": "execute_result",
          "data": {
            "text/plain": [
              "{'add': ['add', 'stir'],\n",
              " 'almond': ['stir', 'combine'],\n",
              " 'almonds': ['stir', 'combine'],\n",
              " 'apple': ['sprinkle', 'mix'],\n",
              " 'avocado': ['mash'],\n",
              " 'avocados': ['mash'],\n",
              " 'bacon': ['add'],\n",
              " 'baguette': ['arrange'],\n",
              " 'baking': ['stir', 'place'],\n",
              " 'ball': ['place'],\n",
              " 'banana': ['stir'],\n",
              " 'bar': ['stir', 'mix'],\n",
              " 'barbecue': ['mix'],\n",
              " 'barbeque': ['stir'],\n",
              " 'basil': ['combine'],\n",
              " 'bay': ['add'],\n",
              " 'bean': ['simmer', 'mix'],\n",
              " 'beans': ['simmer', 'mix'],\n",
              " 'beat': ['add', 'cook'],\n",
              " 'beef': ['combine', 'add'],\n",
              " 'beer': ['pour'],\n",
              " 'biscuit': ['place'],\n",
              " 'blend': ['stir', 'blend'],\n",
              " 'boil': ['cook', 'boil'],\n",
              " 'boiling': ['stir', 'add'],\n",
              " 'bouillon': ['mix'],\n",
              " 'bow': ['mix', 'combine'],\n",
              " 'bread': ['combine', 'mix'],\n",
              " 'broccoli': ['stir'],\n",
              " 'broth': ['add', 'stir'],\n",
              " 'brown': ['cook', 'mix'],\n",
              " 'bun': ['pour'],\n",
              " 'butt': ['stir', 'mix'],\n",
              " 'butter': ['stir', 'mix'],\n",
              " 'buttermilk': ['stir'],\n",
              " 'cake': ['stir', 'bake'],\n",
              " 'caraway': ['combine'],\n",
              " 'carrot': ['combine'],\n",
              " 'carrots': ['combine'],\n",
              " 'cauliflower': ['mash'],\n",
              " 'cayenne': ['stir', 'salt'],\n",
              " 'celery': ['combine'],\n",
              " 'center': ['pour', 'cook'],\n",
              " 'cheese': ['stir', 'sprinkle'],\n",
              " 'chicken': ['cook', 'stir'],\n",
              " 'chile': ['stir'],\n",
              " 'chiles': ['stir'],\n",
              " 'chili': ['mix'],\n",
              " 'chill': ['chill'],\n",
              " 'chip': ['stir', 'top'],\n",
              " 'chips': ['stir', 'top'],\n",
              " 'chocolate': ['stir', 'pour'],\n",
              " 'chuck': ['cook'],\n",
              " 'chunk': ['mash'],\n",
              " 'chunky': ['mash'],\n",
              " 'cider': ['whisk'],\n",
              " 'cilantro': ['simmer', 'stir'],\n",
              " 'cinnamon': ['stir', 'sprinkle'],\n",
              " 'clean': ['knead', 'combine'],\n",
              " 'cloves': ['stir', 'whisk'],\n",
              " 'coat': ['stir', 'coat'],\n",
              " 'cocoa': ['stir'],\n",
              " 'coconut': ['stir', 'combine'],\n",
              " 'cola': ['stir', 'pour'],\n",
              " 'cold': ['cook', 'combine'],\n",
              " 'color': ['add'],\n",
              " 'coloring': ['add'],\n",
              " 'condense': ['combine', 'mix'],\n",
              " 'confectioner': ['stir', 'combine'],\n",
              " 'confectioners': ['stir', 'combine'],\n",
              " 'cook': ['cook', 'stir'],\n",
              " 'cookie': ['place'],\n",
              " 'cool': ['refrigerate'],\n",
              " 'corn': ['combine', 'mix'],\n",
              " 'cornstarch': ['whisk', 'combine'],\n",
              " 'cottage': ['stir'],\n",
              " 'crab': ['stir', 'cook'],\n",
              " 'crack': ['pour', 'combine'],\n",
              " 'cracker': ['pour', 'combine'],\n",
              " 'cranberries': ['combine'],\n",
              " 'crumb': ['mix', 'combine'],\n",
              " 'crust': ['pour', 'cut'],\n",
              " 'cumin': ['mix'],\n",
              " 'day': ['refrigerate'],\n",
              " 'degree': ['grease'],\n",
              " 'desire': ['add'],\n",
              " 'dish': ['grease', 'sprinkle'],\n",
              " 'dough': ['place', 'cut'],\n",
              " 'drain': ['drain', 'cook'],\n",
              " 'dress': ['mix', 'stir'],\n",
              " 'dressing': ['mix', 'stir'],\n",
              " 'ear': ['cook', 'simmer'],\n",
              " 'egg': ['stir', 'mix'],\n",
              " 'eggs': ['stir', 'mix'],\n",
              " 'end': ['stir', 'blend'],\n",
              " 'fat': ['place', 'leave'],\n",
              " 'fill': ['add'],\n",
              " 'fish': ['cook'],\n",
              " 'flake': ['mix', 'bake'],\n",
              " 'flour': ['stir', 'mix'],\n",
              " 'foil': ['bake'],\n",
              " 'food': ['add'],\n",
              " 'fruit': ['mix'],\n",
              " 'fry': ['leave', 'add'],\n",
              " 'garlic': ['mix', 'stir'],\n",
              " 'gin': ['whisk', 'combine'],\n",
              " 'ginger': ['whisk', 'combine'],\n",
              " 'glaze': ['add'],\n",
              " 'graham': ['pour', 'mix'],\n",
              " 'grease': ['grease', 'place'],\n",
              " 'green': ['stir', 'melt'],\n",
              " 'ham': ['pour', 'mix'],\n",
              " 'ice': ['stir', 'combine'],\n",
              " 'ketchup': ['stir', 'cook'],\n",
              " 'kiwi': ['mix'],\n",
              " 'layer': ['arrange', 'top'],\n",
              " 'leaf': ['add'],\n",
              " 'leave': ['leave'],\n",
              " 'lemon': ['stir', 'mix'],\n",
              " 'lime': ['mash', 'combine'],\n",
              " 'loaf': ['place', 'grease'],\n",
              " 'loin': ['pour'],\n",
              " 'long': ['knead', 'simmer'],\n",
              " 'lump': ['stir'],\n",
              " 'macaroni': ['stir'],\n",
              " 'maple': ['mix'],\n",
              " 'margarine': ['mash', 'cook'],\n",
              " 'marinade': ['stir', 'coat'],\n",
              " 'marinate': ['marinate'],\n",
              " 'mash': ['mash'],\n",
              " 'mayonnaise': ['mix'],\n",
              " 'meatball': ['place'],\n",
              " 'melt': ['mix', 'melt'],\n",
              " 'milk': ['stir', 'combine'],\n",
              " 'mini': ['place'],\n",
              " 'minute': ['cook', 'simmer'],\n",
              " 'mixture': ['stir', 'sprinkle'],\n",
              " 'molasses': ['stir'],\n",
              " 'mozzarella': ['sprinkle', 'top'],\n",
              " 'muffin': ['sprinkle', 'place'],\n",
              " 'mushroom': ['stir', 'add'],\n",
              " 'mushrooms': ['add'],\n",
              " 'mustard': ['combine', 'mix'],\n",
              " 'non': ['sprinkle'],\n",
              " 'nut': ['cook', 'simmer'],\n",
              " 'nutmeg': ['stir', 'whisk'],\n",
              " 'nuts': ['stir'],\n",
              " 'oat': ['stir', 'coat'],\n",
              " 'oil': ['stir', 'cook'],\n",
              " 'old': ['mix', 'cook'],\n",
              " 'olive': ['stir', 'add'],\n",
              " 'onion': ['cook', 'mix'],\n",
              " 'onions': ['cook', 'stir'],\n",
              " 'oregano': ['mix'],\n",
              " 'pancake': ['stir'],\n",
              " 'paper': ['line'],\n",
              " 'paprika': ['mix', 'whisk'],\n",
              " 'parsley': ['combine'],\n",
              " 'pasta': ['drain', 'cook'],\n",
              " 'pat': ['cook', 'pat'],\n",
              " 'pea': ['top', 'cook'],\n",
              " 'pear': ['cook'],\n",
              " 'peas': ['combine'],\n",
              " 'pepper': ['mix', 'stir'],\n",
              " 'pie': ['add', 'bake'],\n",
              " 'pink': ['simmer', 'bake'],\n",
              " 'pizza': ['place', 'bake'],\n",
              " 'pop': ['whisk'],\n",
              " 'poppy': ['whisk'],\n",
              " 'pork': ['stir', 'add'],\n",
              " 'potato': ['add', 'mash'],\n",
              " 'potatoes': ['add', 'cook'],\n",
              " 'pre': ['sprinkle', 'bake'],\n",
              " 'prepare': ['pat'],\n",
              " 'preserve': ['mix'],\n",
              " 'preserves': ['mix'],\n",
              " 'pudding': ['mix'],\n",
              " 'pumpkin': ['stir', 'mix'],\n",
              " 'quinoa': ['reduce'],\n",
              " 'rack': ['pour', 'combine'],\n",
              " 'raisin': ['cook', 'combine'],\n",
              " 'raisins': ['cook', 'combine'],\n",
              " 'ranch': ['stir'],\n",
              " 'raspberries': ['mix'],\n",
              " 'ready': ['cook', 'blend'],\n",
              " 'reduce': ['reduce', 'simmer'],\n",
              " 'refrigerate': ['refrigerate'],\n",
              " 'reserve': ['combine', 'mix'],\n",
              " 'rib': ['add'],\n",
              " 'ribs': ['add'],\n",
              " 'rice': ['stir', 'combine'],\n",
              " 'ricotta': ['combine'],\n",
              " 'rind': ['combine'],\n",
              " 'ring': ['cook', 'add'],\n",
              " 'roast': ['place'],\n",
              " 'roll': ['cut'],\n",
              " 'rolls': ['cut'],\n",
              " 'roma': ['combine'],\n",
              " 'root': ['pour'],\n",
              " 'rosemary': ['stir'],\n",
              " 'round': ['combine', 'place'],\n",
              " 'rum': ['mix', 'combine'],\n",
              " 'russet': ['add', 'cook'],\n",
              " 'sage': ['cook'],\n",
              " 'salad': ['mix'],\n",
              " 'salmon': ['bake', 'marinate'],\n",
              " 'salsa': ['pour'],\n",
              " 'salt': ['stir', 'mix'],\n",
              " 'sausage': ['cook'],\n",
              " 'scoop': ['stir'],\n",
              " 'sea': ['place', 'stir'],\n",
              " 'season': ['stir', 'add'],\n",
              " 'seeds': ['whisk', 'combine'],\n",
              " 'separate': ['whisk', 'add'],\n",
              " 'serve': ['sprinkle', 'top'],\n",
              " 'sesame': ['whisk'],\n",
              " 'shape': ['mix'],\n",
              " 'sheet': ['place', 'arrange'],\n",
              " 'shredded': ['stir', 'top'],\n",
              " 'shrimp': ['stir'],\n",
              " 'side': ['cook', 'stir'],\n",
              " 'sift': ['stir', 'sift'],\n",
              " 'single': ['arrange'],\n",
              " 'slice': ['arrange', 'add'],\n",
              " 'slightly': ['stir'],\n",
              " 'smooth': ['stir', 'mix'],\n",
              " 'soda': ['stir', 'combine'],\n",
              " 'soft': ['cook'],\n",
              " 'soup': ['mix', 'cook'],\n",
              " 'soy': ['stir', 'combine'],\n",
              " 'spaghetti': ['simmer'],\n",
              " 'spinach': ['add', 'combine'],\n",
              " 'sprinkle': ['sprinkle'],\n",
              " 'star': ['combine', 'mix'],\n",
              " 'starch': ['whisk', 'combine'],\n",
              " 'stir': ['stir', 'cook'],\n",
              " 'stone': ['place', 'bake'],\n",
              " 'strawberries': ['mix'],\n",
              " 'strip': ['sprinkle', 'heat'],\n",
              " 'sugar': ['stir', 'combine'],\n",
              " 'sun': ['combine'],\n",
              " 'syrup': ['add', 'mix'],\n",
              " 'taco': ['stir', 'pour'],\n",
              " 'tea': ['combine', 'stir'],\n",
              " 'tel': ['place', 'stir'],\n",
              " 'tender': ['cook', 'simmer'],\n",
              " 'tenderloin': ['pour'],\n",
              " 'thyme': ['add', 'salt'],\n",
              " 'toast': ['stir', 'combine'],\n",
              " 'tomato': ['stir', 'combine'],\n",
              " 'tomatoe': ['combine', 'stir'],\n",
              " 'tomatoes': ['combine', 'stir'],\n",
              " 'top': ['top', 'place'],\n",
              " 'topping': ['place', 'sprinkle'],\n",
              " 'tortilla': ['sprinkle'],\n",
              " 'tri': ['sprinkle', 'heat'],\n",
              " 'vanilla': ['stir', 'combine'],\n",
              " 'vinegar': ['stir', 'combine'],\n",
              " 'warm': ['stir', 'cook'],\n",
              " 'water': ['stir', 'mix'],\n",
              " 'wedge': ['arrange'],\n",
              " 'white': ['stir', 'mix'],\n",
              " 'wine': ['stir', 'whisk'],\n",
              " 'wing': ['stir', 'sprinkle'],\n",
              " 'wood': ['blend'],\n",
              " 'wooden': ['blend'],\n",
              " 'yeast': ['dissolve', 'stir'],\n",
              " 'z': ['add', 'place']}"
            ]
          },
          "metadata": {
            "tags": []
          },
          "execution_count": 62
        }
      ]
    },
    {
      "cell_type": "code",
      "metadata": {
        "id": "sZOHDHrXx7tn",
        "colab": {
          "base_uri": "https://localhost:8080/",
          "height": 221
        },
        "outputId": "911035c9-c6b2-4336-9752-271776f74cfb"
      },
      "source": [
        "# taking garlic as an example\n",
        "\n",
        "gar_modes_order = {}\n",
        "gmodes_order = []\n",
        "garlic = {k: v for k, v in sorted(ingre_top_modes['garlic'].items(), key=lambda item: item[1], reverse=True)}\n",
        "# go through all the ordered modes\n",
        "p1 = []\n",
        "p2 = []\n",
        "p3 = []\n",
        "g_li = list(garlic.keys())\n",
        "for m in range(len(g_li)):\n",
        "  print(g_li[m])\n",
        "  if g_li[m] in phase1_modes:\n",
        "    phase1.append(g_li[m])\n",
        "  elif mode in phase2_modes:\n",
        "    phase2.append(g_li[m])\n",
        "  elif mode in phase3_modes:\n",
        "    phase3.append(g_li[m])\n",
        "print(garlic)\n",
        "print(p1)\n",
        "print(p2)\n",
        "print(p3)\n",
        "try:\n",
        "  #modes_order.append(p1[0])\n",
        "  modes_order.append(p2[0])\n",
        "  modes_order.append(p3[0])\n",
        "except:\n",
        "  IndexError\n",
        "\n",
        "gar_modes_order['garlic'] = gmodes_order\n",
        "\n",
        "print(gar_modes_order['garlic'])"
      ],
      "execution_count": null,
      "outputs": [
        {
          "output_type": "stream",
          "text": [
            "mix\n",
            "stir\n",
            "cook\n",
            "combine\n",
            "add\n",
            "simmer\n",
            "salt\n",
            "{'mix': 5, 'stir': 4, 'cook': 3, 'combine': 3, 'add': 2, 'simmer': 1, 'salt': 1}\n",
            "[]\n",
            "[]\n",
            "[]\n",
            "[]\n"
          ],
          "name": "stdout"
        }
      ]
    },
    {
      "cell_type": "code",
      "metadata": {
        "id": "cBFkOZtF1JXH",
        "colab": {
          "base_uri": "https://localhost:8080/",
          "height": 391
        },
        "outputId": "593543c8-740e-4356-9605-478ffa717170"
      },
      "source": [
        "phase2_modes"
      ],
      "execution_count": null,
      "outputs": [
        {
          "output_type": "execute_result",
          "data": {
            "text/plain": [
              "['add',\n",
              " 'chill',\n",
              " 'coat',\n",
              " 'combine',\n",
              " 'dip',\n",
              " 'dust',\n",
              " 'marinate',\n",
              " 'mash',\n",
              " 'mix',\n",
              " 'parboil',\n",
              " 'place',\n",
              " 'preheat',\n",
              " 'put',\n",
              " 'puree',\n",
              " 'salt',\n",
              " 'saute',\n",
              " 'season',\n",
              " 'soak',\n",
              " 'sprinkle',\n",
              " 'stir',\n",
              " 'top',\n",
              " 'whisk']"
            ]
          },
          "metadata": {
            "tags": []
          },
          "execution_count": 60
        }
      ]
    },
    {
      "cell_type": "code",
      "metadata": {
        "id": "C67pE8muzrgo",
        "colab": {
          "base_uri": "https://localhost:8080/",
          "height": 34
        },
        "outputId": "2cfe5adb-f02a-471c-be02-7817f95785b1"
      },
      "source": [
        "print(garlic.keys())"
      ],
      "execution_count": null,
      "outputs": [
        {
          "output_type": "stream",
          "text": [
            "dict_keys(['mix', 'stir', 'cook', 'combine', 'add', 'simmer', 'salt'])\n"
          ],
          "name": "stdout"
        }
      ]
    },
    {
      "cell_type": "code",
      "metadata": {
        "id": "5a-LPUZvzw1n",
        "colab": {
          "base_uri": "https://localhost:8080/",
          "height": 34
        },
        "outputId": "2622de22-1a8b-460e-b3e2-2e34b8718212"
      },
      "source": [
        "print(ingre_top_modes['beef'].keys())"
      ],
      "execution_count": null,
      "outputs": [
        {
          "output_type": "stream",
          "text": [
            "dict_keys(['combine', 'add', 'mix', 'heat', 'drain', 'saute'])\n"
          ],
          "name": "stdout"
        }
      ]
    },
    {
      "cell_type": "code",
      "metadata": {
        "id": "dRBczY910ntT",
        "colab": {
          "base_uri": "https://localhost:8080/",
          "height": 34
        },
        "outputId": "016a6aa3-4695-4eff-8a20-c1d9105011e1"
      },
      "source": [
        "print(ingre_top_modes['garlic'])\n",
        "# phase 1: drain, pour\n",
        "# phase 2: mix, stir, combine, coat, place\n",
        "# phase 3: --\n",
        "\n",
        "# ideal result: pepper: {mix, stir}"
      ],
      "execution_count": null,
      "outputs": [
        {
          "output_type": "stream",
          "text": [
            "{'mix': 5, 'stir': 4, 'cook': 3, 'combine': 3, 'add': 2, 'simmer': 1, 'salt': 1}\n"
          ],
          "name": "stdout"
        }
      ]
    },
    {
      "cell_type": "code",
      "metadata": {
        "id": "xnwtOBJd00zt"
      },
      "source": [
        ""
      ],
      "execution_count": null,
      "outputs": []
    }
  ]
}